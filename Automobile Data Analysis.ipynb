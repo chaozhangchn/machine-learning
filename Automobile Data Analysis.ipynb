{
 "cells": [
  {
   "cell_type": "markdown",
   "metadata": {},
   "source": [
    "<a id='top'></a>\n",
    "## Project Title: Automobile Data Analysis And Application\n"
   ]
  },
  {
   "cell_type": "markdown",
   "metadata": {},
   "source": [
    "## Contents\n",
    "\n",
    "1. <a href=#intro>Introduction</a>\n",
    "    1. <a href=#businessproblems>Business Problems</a>\n",
    "    1. <a href=#projecttarget>Project Deliverables</a>\n",
    "1. <a href=#datapre>Data Preprocessing</a>\n",
    "    1. <a href=#dataoverview>Automobile Data Overview</a>\n",
    "    1. <a href=#outliers>Outliers Handling</a>\n",
    "    1. <a href=#splitandtest>Split To Train And Test</a>\n",
    "    1. <a href=#normalize>Data Normalization</a>\n",
    "1. <a href=#trainandtest>Data Training and Testing</a>\n",
    "    1. <a href=#linear>Linear Regression Model</a>\n",
    "    1. <a href=#ridege>Ridege Regression Model</a>\n",
    "    1. <a href=#knn>KNN Regression Model</a>\n",
    "    1. <a href=#decision>Decision Tree Regression Model</a>\n",
    "    1. <a href=#rfr>Random Forest Regression Model</a>\n",
    "    1. <a href=#neural>Neural Network Regression Model</a>\n",
    "1. <a href=#predict>Data Prediction Improvement</a>\n",
    "    1. <a href=#pre>Data Prediction with Random Forest Model</a>\n",
    "    1. <a href=#pre1>Data Prediction with Neural Network Model</a>\n",
    "1. <a href=#con>Conclusion</a>"
   ]
  },
  {
   "cell_type": "markdown",
   "metadata": {},
   "source": [
    "<a id='intro'></a>\n",
    "## 1. Introduction\n",
    "<a href=#top>(back to top)</a>"
   ]
  },
  {
   "cell_type": "markdown",
   "metadata": {},
   "source": [
    "<a id='businessproblems'></a>\n",
    "### Business Problems\n",
    "\n",
    "Before buying a car, customer need to consider many features and factors such as price, horse power, transmission type and etc., sometimes it is quite difficult to make a decision between the performance and the price . \n",
    "\n",
    "Data source: https://www.kaggle.com/CooperUnion/cardataset"
   ]
  },
  {
   "cell_type": "markdown",
   "metadata": {},
   "source": [
    "<a id='projecttarget'></a>\n",
    "### Project Delivertbles\n",
    "1, Automobile data visualization and correlation analysis\\\n",
    "2, Clustering models to divide the automobile into several types based on the cost performance\\\n",
    "3, Regression models to predict the car price according to the given parameters\\\n",
    "4, User interface design to recommend best cars for customers of their preference"
   ]
  },
  {
   "cell_type": "markdown",
   "metadata": {},
   "source": [
    "<a id='datapre'></a>\n",
    "## 2. Data Preprocessing\n",
    "<a href=#top>(back to top)</a>"
   ]
  },
  {
   "cell_type": "code",
   "execution_count": 2,
   "metadata": {},
   "outputs": [],
   "source": [
    "import numpy as np\n",
    "import pandas as pd\n",
    "from numpy import inf\n",
    "from numpy import zeros\n",
    "\n",
    "import matplotlib.pyplot as plt\n",
    "import matplotlib.dates as mdate\n",
    "import seaborn as sns\n",
    "from time import time\n",
    "\n",
    "#from matplotlib.pyplot import MultipleLocator\n",
    "#from numpy.linalg import eig\n",
    "\n",
    "from sklearn import preprocessing\n",
    "from sklearn.preprocessing import StandardScaler\n",
    "from sklearn.preprocessing import OneHotEncoder, OrdinalEncoder\n",
    "from sklearn.compose import ColumnTransformer,make_column_selector\n",
    "from sklearn import set_config\n",
    "\n",
    "from sklearn.impute import SimpleImputer\n",
    "from sklearn.decomposition import PCA\n",
    "# For Regression Algorithm Library Based On Sklearn\n",
    "from sklearn.linear_model import LinearRegression\n",
    "from sklearn.linear_model import Ridge\n",
    "from sklearn.neighbors import KNeighborsRegressor\n",
    "from sklearn.tree import DecisionTreeRegressor\n",
    "from sklearn.ensemble import RandomForestRegressor\n",
    "from sklearn.neural_network import MLPRegressor\n",
    "\n",
    "# For Model Evaluation\n",
    "from sklearn.metrics import r2_score\n",
    "from sklearn.metrics import explained_variance_score\n",
    "from sklearn.metrics import mean_absolute_error\n",
    "from sklearn.metrics import mean_squared_error\n",
    "from sklearn.model_selection import cross_val_score\n",
    "\n",
    "# For Splitting Data In Training And Testing\n",
    "from sklearn.model_selection import train_test_split,GridSearchCV,cross_val_score\n",
    "from sklearn.model_selection import GridSearchCV\n"
   ]
  },
  {
   "cell_type": "markdown",
   "metadata": {},
   "source": [
    "<a id='dataoverview'></a>\n",
    "### Automobile Data Overview"
   ]
  },
  {
   "cell_type": "markdown",
   "metadata": {},
   "source": [
    "Read data from csv file."
   ]
  },
  {
   "cell_type": "code",
   "execution_count": 27,
   "metadata": {},
   "outputs": [],
   "source": [
    "# Reading data from csv file\n",
    "auto_data = pd.read_csv('../Team Project/Datasets/automobile data.csv', decimal = ',')"
   ]
  },
  {
   "cell_type": "code",
   "execution_count": 8,
   "metadata": {
    "scrolled": false
   },
   "outputs": [
    {
     "name": "stdout",
     "output_type": "stream",
     "text": [
      "<class 'pandas.core.frame.DataFrame'>\n",
      "RangeIndex: 11914 entries, 0 to 11913\n",
      "Data columns (total 16 columns):\n",
      " #   Column             Non-Null Count  Dtype  \n",
      "---  ------             --------------  -----  \n",
      " 0   Make               11914 non-null  object \n",
      " 1   Model              11914 non-null  object \n",
      " 2   Year               11914 non-null  int64  \n",
      " 3   Engine Fuel Type   11911 non-null  object \n",
      " 4   Engine HP          11845 non-null  float64\n",
      " 5   Engine Cylinders   11884 non-null  float64\n",
      " 6   Transmission Type  11914 non-null  object \n",
      " 7   Driven_Wheels      11914 non-null  object \n",
      " 8   Number of Doors    11908 non-null  float64\n",
      " 9   Market Category    8172 non-null   object \n",
      " 10  Vehicle Size       11914 non-null  object \n",
      " 11  Vehicle Style      11914 non-null  object \n",
      " 12  highway MPG        11914 non-null  int64  \n",
      " 13  city mpg           11914 non-null  int64  \n",
      " 14  Popularity         11914 non-null  int64  \n",
      " 15  MSRP               11914 non-null  int64  \n",
      "dtypes: float64(3), int64(5), object(8)\n",
      "memory usage: 1.5+ MB\n"
     ]
    }
   ],
   "source": [
    "auto_data.info()"
   ]
  },
  {
   "cell_type": "code",
   "execution_count": 9,
   "metadata": {},
   "outputs": [
    {
     "data": {
      "text/plain": [
       "(11914, 16)"
      ]
     },
     "execution_count": 9,
     "metadata": {},
     "output_type": "execute_result"
    }
   ],
   "source": [
    "#Data shape (rows, columns)\n",
    "auto_data.shape"
   ]
  },
  {
   "cell_type": "code",
   "execution_count": 10,
   "metadata": {
    "scrolled": false
   },
   "outputs": [
    {
     "data": {
      "text/html": [
       "<div>\n",
       "<style scoped>\n",
       "    .dataframe tbody tr th:only-of-type {\n",
       "        vertical-align: middle;\n",
       "    }\n",
       "\n",
       "    .dataframe tbody tr th {\n",
       "        vertical-align: top;\n",
       "    }\n",
       "\n",
       "    .dataframe thead th {\n",
       "        text-align: right;\n",
       "    }\n",
       "</style>\n",
       "<table border=\"1\" class=\"dataframe\">\n",
       "  <thead>\n",
       "    <tr style=\"text-align: right;\">\n",
       "      <th></th>\n",
       "      <th>Make</th>\n",
       "      <th>Model</th>\n",
       "      <th>Year</th>\n",
       "      <th>Engine Fuel Type</th>\n",
       "      <th>Engine HP</th>\n",
       "      <th>Engine Cylinders</th>\n",
       "      <th>Transmission Type</th>\n",
       "      <th>Driven_Wheels</th>\n",
       "      <th>Number of Doors</th>\n",
       "      <th>Market Category</th>\n",
       "      <th>Vehicle Size</th>\n",
       "      <th>Vehicle Style</th>\n",
       "      <th>highway MPG</th>\n",
       "      <th>city mpg</th>\n",
       "      <th>Popularity</th>\n",
       "      <th>MSRP</th>\n",
       "    </tr>\n",
       "  </thead>\n",
       "  <tbody>\n",
       "    <tr>\n",
       "      <th>10582</th>\n",
       "      <td>Chevrolet</td>\n",
       "      <td>Tracker</td>\n",
       "      <td>2002</td>\n",
       "      <td>regular unleaded</td>\n",
       "      <td>155.0</td>\n",
       "      <td>6.0</td>\n",
       "      <td>AUTOMATIC</td>\n",
       "      <td>rear wheel drive</td>\n",
       "      <td>4.0</td>\n",
       "      <td>NaN</td>\n",
       "      <td>Compact</td>\n",
       "      <td>4dr SUV</td>\n",
       "      <td>19</td>\n",
       "      <td>17</td>\n",
       "      <td>1385</td>\n",
       "      <td>20835</td>\n",
       "    </tr>\n",
       "    <tr>\n",
       "      <th>9461</th>\n",
       "      <td>Chevrolet</td>\n",
       "      <td>Silverado 1500 Classic</td>\n",
       "      <td>2007</td>\n",
       "      <td>regular unleaded</td>\n",
       "      <td>295.0</td>\n",
       "      <td>8.0</td>\n",
       "      <td>AUTOMATIC</td>\n",
       "      <td>four wheel drive</td>\n",
       "      <td>4.0</td>\n",
       "      <td>NaN</td>\n",
       "      <td>Large</td>\n",
       "      <td>Extended Cab Pickup</td>\n",
       "      <td>18</td>\n",
       "      <td>13</td>\n",
       "      <td>1385</td>\n",
       "      <td>33135</td>\n",
       "    </tr>\n",
       "    <tr>\n",
       "      <th>3120</th>\n",
       "      <td>Honda</td>\n",
       "      <td>Crosstour</td>\n",
       "      <td>2015</td>\n",
       "      <td>regular unleaded</td>\n",
       "      <td>278.0</td>\n",
       "      <td>6.0</td>\n",
       "      <td>AUTOMATIC</td>\n",
       "      <td>front wheel drive</td>\n",
       "      <td>4.0</td>\n",
       "      <td>Crossover,Hatchback</td>\n",
       "      <td>Midsize</td>\n",
       "      <td>4dr Hatchback</td>\n",
       "      <td>30</td>\n",
       "      <td>20</td>\n",
       "      <td>2202</td>\n",
       "      <td>35940</td>\n",
       "    </tr>\n",
       "    <tr>\n",
       "      <th>4041</th>\n",
       "      <td>Suzuki</td>\n",
       "      <td>Equator</td>\n",
       "      <td>2010</td>\n",
       "      <td>regular unleaded</td>\n",
       "      <td>152.0</td>\n",
       "      <td>4.0</td>\n",
       "      <td>MANUAL</td>\n",
       "      <td>rear wheel drive</td>\n",
       "      <td>4.0</td>\n",
       "      <td>NaN</td>\n",
       "      <td>Compact</td>\n",
       "      <td>Extended Cab Pickup</td>\n",
       "      <td>23</td>\n",
       "      <td>19</td>\n",
       "      <td>481</td>\n",
       "      <td>18825</td>\n",
       "    </tr>\n",
       "    <tr>\n",
       "      <th>4351</th>\n",
       "      <td>Ford</td>\n",
       "      <td>Explorer Sport Trac</td>\n",
       "      <td>2008</td>\n",
       "      <td>regular unleaded</td>\n",
       "      <td>292.0</td>\n",
       "      <td>8.0</td>\n",
       "      <td>AUTOMATIC</td>\n",
       "      <td>rear wheel drive</td>\n",
       "      <td>4.0</td>\n",
       "      <td>NaN</td>\n",
       "      <td>Compact</td>\n",
       "      <td>Crew Cab Pickup</td>\n",
       "      <td>20</td>\n",
       "      <td>13</td>\n",
       "      <td>5657</td>\n",
       "      <td>28800</td>\n",
       "    </tr>\n",
       "  </tbody>\n",
       "</table>\n",
       "</div>"
      ],
      "text/plain": [
       "            Make                   Model  Year  Engine Fuel Type  Engine HP  \\\n",
       "10582  Chevrolet                 Tracker  2002  regular unleaded      155.0   \n",
       "9461   Chevrolet  Silverado 1500 Classic  2007  regular unleaded      295.0   \n",
       "3120       Honda               Crosstour  2015  regular unleaded      278.0   \n",
       "4041      Suzuki                 Equator  2010  regular unleaded      152.0   \n",
       "4351        Ford     Explorer Sport Trac  2008  regular unleaded      292.0   \n",
       "\n",
       "       Engine Cylinders Transmission Type      Driven_Wheels  Number of Doors  \\\n",
       "10582               6.0         AUTOMATIC   rear wheel drive              4.0   \n",
       "9461                8.0         AUTOMATIC   four wheel drive              4.0   \n",
       "3120                6.0         AUTOMATIC  front wheel drive              4.0   \n",
       "4041                4.0            MANUAL   rear wheel drive              4.0   \n",
       "4351                8.0         AUTOMATIC   rear wheel drive              4.0   \n",
       "\n",
       "           Market Category Vehicle Size        Vehicle Style  highway MPG  \\\n",
       "10582                  NaN      Compact              4dr SUV           19   \n",
       "9461                   NaN        Large  Extended Cab Pickup           18   \n",
       "3120   Crossover,Hatchback      Midsize        4dr Hatchback           30   \n",
       "4041                   NaN      Compact  Extended Cab Pickup           23   \n",
       "4351                   NaN      Compact      Crew Cab Pickup           20   \n",
       "\n",
       "       city mpg  Popularity   MSRP  \n",
       "10582        17        1385  20835  \n",
       "9461         13        1385  33135  \n",
       "3120         20        2202  35940  \n",
       "4041         19         481  18825  \n",
       "4351         13        5657  28800  "
      ]
     },
     "execution_count": 10,
     "metadata": {},
     "output_type": "execute_result"
    }
   ],
   "source": [
    "#The first 3 rows of dataset\n",
    "auto_data.sample(5)"
   ]
  },
  {
   "cell_type": "code",
   "execution_count": 11,
   "metadata": {},
   "outputs": [],
   "source": [
    "#auto_data.drop_duplicates(inplace=True)"
   ]
  },
  {
   "cell_type": "markdown",
   "metadata": {},
   "source": [
    "First, we drop those columns that have fewer than 10000 non-missing values, the column of \"Makket Category\""
   ]
  },
  {
   "cell_type": "code",
   "execution_count": 30,
   "metadata": {},
   "outputs": [],
   "source": [
    "auto_data = auto_data.drop(labels = ['Market Category'], axis = 1)"
   ]
  },
  {
   "cell_type": "markdown",
   "metadata": {},
   "source": [
    "Replace unkown values in column 'Transmission Type' with most frequent values."
   ]
  },
  {
   "cell_type": "code",
   "execution_count": 13,
   "metadata": {},
   "outputs": [
    {
     "data": {
      "text/plain": [
       "Transmission Type\n",
       "AUTOMATED_MANUAL    320.683706\n",
       "AUTOMATIC           258.643004\n",
       "DIRECT_DRIVE        148.375000\n",
       "MANUAL              209.545826\n",
       "UNKNOWN             167.105263\n",
       "Name: Engine HP, dtype: float64"
      ]
     },
     "execution_count": 13,
     "metadata": {},
     "output_type": "execute_result"
    }
   ],
   "source": [
    "auto_data.groupby('Transmission Type')['Engine HP'].mean()"
   ]
  },
  {
   "cell_type": "code",
   "execution_count": 14,
   "metadata": {},
   "outputs": [
    {
     "data": {
      "text/html": [
       "<div>\n",
       "<style scoped>\n",
       "    .dataframe tbody tr th:only-of-type {\n",
       "        vertical-align: middle;\n",
       "    }\n",
       "\n",
       "    .dataframe tbody tr th {\n",
       "        vertical-align: top;\n",
       "    }\n",
       "\n",
       "    .dataframe thead th {\n",
       "        text-align: right;\n",
       "    }\n",
       "</style>\n",
       "<table border=\"1\" class=\"dataframe\">\n",
       "  <thead>\n",
       "    <tr style=\"text-align: right;\">\n",
       "      <th></th>\n",
       "      <th>Transmission Type</th>\n",
       "    </tr>\n",
       "  </thead>\n",
       "  <tbody>\n",
       "    <tr>\n",
       "      <th>count</th>\n",
       "      <td>11914</td>\n",
       "    </tr>\n",
       "    <tr>\n",
       "      <th>unique</th>\n",
       "      <td>5</td>\n",
       "    </tr>\n",
       "    <tr>\n",
       "      <th>top</th>\n",
       "      <td>AUTOMATIC</td>\n",
       "    </tr>\n",
       "    <tr>\n",
       "      <th>freq</th>\n",
       "      <td>8266</td>\n",
       "    </tr>\n",
       "  </tbody>\n",
       "</table>\n",
       "</div>"
      ],
      "text/plain": [
       "       Transmission Type\n",
       "count              11914\n",
       "unique                 5\n",
       "top            AUTOMATIC\n",
       "freq                8266"
      ]
     },
     "execution_count": 14,
     "metadata": {},
     "output_type": "execute_result"
    }
   ],
   "source": [
    "auto_data[['Transmission Type']].describe()"
   ]
  },
  {
   "cell_type": "code",
   "execution_count": 15,
   "metadata": {},
   "outputs": [],
   "source": [
    "auto_data.loc[:,'Transmission Type'].replace('UNKNOWN', 'AUTOMATIC', inplace = True)"
   ]
  },
  {
   "cell_type": "code",
   "execution_count": 16,
   "metadata": {},
   "outputs": [
    {
     "data": {
      "text/plain": [
       "Transmission Type\n",
       "AUTOMATED_MANUAL    320.683706\n",
       "AUTOMATIC           258.432446\n",
       "DIRECT_DRIVE        148.375000\n",
       "MANUAL              209.545826\n",
       "Name: Engine HP, dtype: float64"
      ]
     },
     "execution_count": 16,
     "metadata": {},
     "output_type": "execute_result"
    }
   ],
   "source": [
    "auto_data.groupby('Transmission Type')['Engine HP'].mean()"
   ]
  },
  {
   "cell_type": "code",
   "execution_count": 17,
   "metadata": {},
   "outputs": [],
   "source": [
    "imputer = SimpleImputer(missing_values = np.nan, strategy = 'most_frequent')\n",
    "\n",
    "no_miss2 = imputer.fit_transform(auto_data)"
   ]
  },
  {
   "cell_type": "code",
   "execution_count": 18,
   "metadata": {},
   "outputs": [],
   "source": [
    "auto_data['Make_Model'] = auto_data[['Make','Model']].apply(lambda x: '_'.join(x), axis = 1)"
   ]
  },
  {
   "cell_type": "code",
   "execution_count": 19,
   "metadata": {},
   "outputs": [],
   "source": [
    "auto_data.drop(columns=['Make','Model'],inplace=True)"
   ]
  },
  {
   "cell_type": "code",
   "execution_count": 20,
   "metadata": {},
   "outputs": [],
   "source": [
    "auto_data.replace('', np.nan, inplace = True)"
   ]
  },
  {
   "cell_type": "code",
   "execution_count": 21,
   "metadata": {},
   "outputs": [],
   "source": [
    "imputer = SimpleImputer(missing_values = np.nan, strategy = 'most_frequent')\n",
    "\n",
    "no_miss = imputer.fit_transform(auto_data)"
   ]
  },
  {
   "cell_type": "code",
   "execution_count": 22,
   "metadata": {},
   "outputs": [],
   "source": [
    "# numeric columns\n",
    "auto_data.fillna(auto_data.select_dtypes(include='number').mean().iloc[0], inplace=True)\n",
    "\n",
    "# categorical columns\n",
    "auto_data.fillna(auto_data.select_dtypes(include='object').mode().iloc[0], inplace=True)\n",
    "no_miss1 = auto_data.copy()"
   ]
  },
  {
   "cell_type": "code",
   "execution_count": 23,
   "metadata": {},
   "outputs": [],
   "source": [
    "no_miss1 = pd.DataFrame(no_miss1,dtype=np.object)"
   ]
  },
  {
   "cell_type": "code",
   "execution_count": 24,
   "metadata": {},
   "outputs": [
    {
     "data": {
      "text/plain": [
       "(11914, 14)"
      ]
     },
     "execution_count": 24,
     "metadata": {},
     "output_type": "execute_result"
    }
   ],
   "source": [
    "# drop missing values rows\n",
    "#no_miss = auto_data[pd.notna(auto_data).all(axis=1)].copy()\n",
    "no_miss.shape"
   ]
  },
  {
   "cell_type": "code",
   "execution_count": 25,
   "metadata": {
    "scrolled": false
   },
   "outputs": [],
   "source": [
    "no_miss = pd.DataFrame(no_miss, columns = auto_data.columns)"
   ]
  },
  {
   "cell_type": "code",
   "execution_count": 31,
   "metadata": {
    "scrolled": false
   },
   "outputs": [],
   "source": [
    "no_miss2 = pd.DataFrame(no_miss2, columns = auto_data.columns)"
   ]
  },
  {
   "cell_type": "code",
   "execution_count": 18,
   "metadata": {},
   "outputs": [
    {
     "name": "stdout",
     "output_type": "stream",
     "text": [
      "<class 'pandas.core.frame.DataFrame'>\n",
      "RangeIndex: 11914 entries, 0 to 11913\n",
      "Data columns (total 14 columns):\n",
      " #   Column             Non-Null Count  Dtype \n",
      "---  ------             --------------  ----- \n",
      " 0   Year               11914 non-null  object\n",
      " 1   Engine Fuel Type   11914 non-null  object\n",
      " 2   Engine HP          11914 non-null  object\n",
      " 3   Engine Cylinders   11914 non-null  object\n",
      " 4   Transmission Type  11914 non-null  object\n",
      " 5   Driven_Wheels      11914 non-null  object\n",
      " 6   Number of Doors    11914 non-null  object\n",
      " 7   Vehicle Size       11914 non-null  object\n",
      " 8   Vehicle Style      11914 non-null  object\n",
      " 9   highway MPG        11914 non-null  object\n",
      " 10  city mpg           11914 non-null  object\n",
      " 11  Popularity         11914 non-null  object\n",
      " 12  MSRP               11914 non-null  object\n",
      " 13  Make_Model         11914 non-null  object\n",
      "dtypes: object(14)\n",
      "memory usage: 1.3+ MB\n"
     ]
    }
   ],
   "source": [
    "no_miss.info()"
   ]
  },
  {
   "cell_type": "code",
   "execution_count": 19,
   "metadata": {
    "scrolled": false
   },
   "outputs": [
    {
     "data": {
      "text/html": [
       "<div>\n",
       "<style scoped>\n",
       "    .dataframe tbody tr th:only-of-type {\n",
       "        vertical-align: middle;\n",
       "    }\n",
       "\n",
       "    .dataframe tbody tr th {\n",
       "        vertical-align: top;\n",
       "    }\n",
       "\n",
       "    .dataframe thead th {\n",
       "        text-align: right;\n",
       "    }\n",
       "</style>\n",
       "<table border=\"1\" class=\"dataframe\">\n",
       "  <thead>\n",
       "    <tr style=\"text-align: right;\">\n",
       "      <th></th>\n",
       "      <th>Year</th>\n",
       "      <th>Engine Fuel Type</th>\n",
       "      <th>Engine HP</th>\n",
       "      <th>Engine Cylinders</th>\n",
       "      <th>Transmission Type</th>\n",
       "      <th>Driven_Wheels</th>\n",
       "      <th>Number of Doors</th>\n",
       "      <th>Vehicle Size</th>\n",
       "      <th>Vehicle Style</th>\n",
       "      <th>highway MPG</th>\n",
       "      <th>city mpg</th>\n",
       "      <th>Popularity</th>\n",
       "      <th>MSRP</th>\n",
       "      <th>Make_Model</th>\n",
       "    </tr>\n",
       "  </thead>\n",
       "  <tbody>\n",
       "    <tr>\n",
       "      <th>0</th>\n",
       "      <td>2011</td>\n",
       "      <td>premium unleaded (required)</td>\n",
       "      <td>335</td>\n",
       "      <td>6</td>\n",
       "      <td>MANUAL</td>\n",
       "      <td>rear wheel drive</td>\n",
       "      <td>2</td>\n",
       "      <td>Compact</td>\n",
       "      <td>Coupe</td>\n",
       "      <td>26</td>\n",
       "      <td>19</td>\n",
       "      <td>3916</td>\n",
       "      <td>46135</td>\n",
       "      <td>BMW_1 Series M</td>\n",
       "    </tr>\n",
       "    <tr>\n",
       "      <th>1</th>\n",
       "      <td>2011</td>\n",
       "      <td>premium unleaded (required)</td>\n",
       "      <td>300</td>\n",
       "      <td>6</td>\n",
       "      <td>MANUAL</td>\n",
       "      <td>rear wheel drive</td>\n",
       "      <td>2</td>\n",
       "      <td>Compact</td>\n",
       "      <td>Convertible</td>\n",
       "      <td>28</td>\n",
       "      <td>19</td>\n",
       "      <td>3916</td>\n",
       "      <td>40650</td>\n",
       "      <td>BMW_1 Series</td>\n",
       "    </tr>\n",
       "  </tbody>\n",
       "</table>\n",
       "</div>"
      ],
      "text/plain": [
       "   Year             Engine Fuel Type Engine HP Engine Cylinders  \\\n",
       "0  2011  premium unleaded (required)       335                6   \n",
       "1  2011  premium unleaded (required)       300                6   \n",
       "\n",
       "  Transmission Type     Driven_Wheels Number of Doors Vehicle Size  \\\n",
       "0            MANUAL  rear wheel drive               2      Compact   \n",
       "1            MANUAL  rear wheel drive               2      Compact   \n",
       "\n",
       "  Vehicle Style highway MPG city mpg Popularity   MSRP      Make_Model  \n",
       "0         Coupe          26       19       3916  46135  BMW_1 Series M  \n",
       "1   Convertible          28       19       3916  40650    BMW_1 Series  "
      ]
     },
     "execution_count": 19,
     "metadata": {},
     "output_type": "execute_result"
    }
   ],
   "source": [
    "no_miss.head(2)"
   ]
  },
  {
   "cell_type": "code",
   "execution_count": 20,
   "metadata": {},
   "outputs": [],
   "source": [
    "no_miss_num = no_miss.loc[:,['Engine HP', 'Engine Cylinders', 'Number of Doors',\\\n",
    "                             'highway MPG','city mpg','Popularity','MSRP']]"
   ]
  },
  {
   "cell_type": "code",
   "execution_count": 21,
   "metadata": {},
   "outputs": [],
   "source": [
    "no_miss_num = pd.DataFrame(no_miss_num,dtype=np.float)"
   ]
  },
  {
   "cell_type": "code",
   "execution_count": 22,
   "metadata": {},
   "outputs": [],
   "source": [
    "no_miss_cat = no_miss.loc[:,['Make_Model','Engine Fuel Type', 'Transmission Type',\\\n",
    "                            'Driven_Wheels','Vehicle Size','Vehicle Style']]"
   ]
  },
  {
   "cell_type": "markdown",
   "metadata": {},
   "source": [
    "Histogram comparison of each attribute"
   ]
  },
  {
   "cell_type": "code",
   "execution_count": 23,
   "metadata": {
    "scrolled": false
   },
   "outputs": [
    {
     "data": {
      "image/png": "[encoded data removed]",
      "text/plain": [
       "<Figure size 1080x432 with 7 Axes>"
      ]
     },
     "metadata": {
      "needs_background": "light"
     },
     "output_type": "display_data"
    }
   ],
   "source": [
    "plt.figure(figsize=(15,6))\n",
    "for x in range(7):\n",
    "    plt.subplot(2,4,x+1)\n",
    "    no_miss_num.iloc[:,x].hist(alpha = 1)\n",
    "    plt.title(no_miss_num.columns[x])"
   ]
  },
  {
   "cell_type": "code",
   "execution_count": 24,
   "metadata": {},
   "outputs": [],
   "source": [
    "#aa = pd.DataFrame(x_ttrain, columns = no_miss.columns)"
   ]
  },
  {
   "cell_type": "code",
   "execution_count": 25,
   "metadata": {},
   "outputs": [
    {
     "data": {
      "text/plain": [
       "Text(0.5, 1.0, 'Correlation Map Between Variables')"
      ]
     },
     "execution_count": 25,
     "metadata": {},
     "output_type": "execute_result"
    },
    {
     "data": {
      "image/png": "[encoded data removed]",
      "text/plain": [
       "<Figure size 576x432 with 2 Axes>"
      ]
     },
     "metadata": {
      "needs_background": "light"
     },
     "output_type": "display_data"
    }
   ],
   "source": [
    "plt.figure(figsize=(8, 6))\n",
    "sns.heatmap(no_miss_num.corr(method = 'pearson'), annot = True, fmt = '.2f', linewidths = 0.1, linecolor= 'white', \\\n",
    "           annot_kws={'size':10})\n",
    "plt.title('Correlation Map Between Variables')"
   ]
  },
  {
   "cell_type": "code",
   "execution_count": 26,
   "metadata": {},
   "outputs": [],
   "source": [
    "#no_miss.to_csv('../Team Project/Datasets/result.csv')"
   ]
  },
  {
   "cell_type": "markdown",
   "metadata": {},
   "source": [
    "<a id='splitandtest'></a>\n",
    "### Split Data To Train and Test"
   ]
  },
  {
   "cell_type": "markdown",
   "metadata": {},
   "source": [
    "Spliting data for training and testing, trained data size is 80% and test data size is 20%."
   ]
  },
  {
   "cell_type": "code",
   "execution_count": 32,
   "metadata": {},
   "outputs": [],
   "source": [
    "y = no_miss['MSRP']"
   ]
  },
  {
   "cell_type": "code",
   "execution_count": 33,
   "metadata": {},
   "outputs": [],
   "source": [
    "x_train, x_test, y_train, y_test = train_test_split(no_miss.drop(columns = 'MSRP'), y, test_size=0.2, random_state = 5002)"
   ]
  },
  {
   "cell_type": "code",
   "execution_count": 34,
   "metadata": {},
   "outputs": [],
   "source": [
    "y1 = no_miss1['MSRP']"
   ]
  },
  {
   "cell_type": "code",
   "execution_count": 35,
   "metadata": {},
   "outputs": [],
   "source": [
    "x_train1, x_test1, y_train1, y_test1 = train_test_split(no_miss1.drop(columns = 'MSRP'), y1, test_size=0.2, random_state = 5002)"
   ]
  },
  {
   "cell_type": "code",
   "execution_count": 36,
   "metadata": {},
   "outputs": [],
   "source": [
    "y2 = no_miss2['MSRP']"
   ]
  },
  {
   "cell_type": "code",
   "execution_count": 37,
   "metadata": {},
   "outputs": [],
   "source": [
    "x_train2, x_test2, y_train2, y_test2 = train_test_split(no_miss2.drop(columns = 'MSRP'), y2, test_size=0.2, random_state = 5002)"
   ]
  },
  {
   "cell_type": "code",
   "execution_count": 38,
   "metadata": {},
   "outputs": [],
   "source": [
    "#no_miss_num = x_train.loc[:,['Year', 'Engine HP', 'Engine Cylinders', 'Number of Doors',\\\n",
    "#                             'highway MPG','city mpg','Popularity','MSRP']]"
   ]
  },
  {
   "cell_type": "code",
   "execution_count": 39,
   "metadata": {},
   "outputs": [],
   "source": [
    "#no_miss_cat = x_train.loc[:,['Make', 'Model','Engine Fuel Type', 'Transmission Type',\\\n",
    "#                            'Driven_Wheels','Vehicle Size','Vehicle Style']]"
   ]
  },
  {
   "cell_type": "markdown",
   "metadata": {},
   "source": [
    "<a id='normalize'></a>\n",
    "### Data Normalization"
   ]
  },
  {
   "cell_type": "code",
   "execution_count": 40,
   "metadata": {},
   "outputs": [],
   "source": [
    "ct = ColumnTransformer([\n",
    "      ('scale', StandardScaler(),\n",
    "      make_column_selector(dtype_include=np.number)),\n",
    "      ('OneHot',\n",
    "      OneHotEncoder(handle_unknown='ignore'),\n",
    "      make_column_selector(dtype_include=object))])"
   ]
  },
  {
   "cell_type": "code",
   "execution_count": 41,
   "metadata": {},
   "outputs": [
    {
     "data": {
      "text/plain": [
       "ColumnTransformer(transformers=[('scale', StandardScaler(),\n",
       "                                 <sklearn.compose._column_transformer.make_column_selector object at 0x0000014DD9F6BC40>),\n",
       "                                ('OneHot',\n",
       "                                 OneHotEncoder(handle_unknown='ignore'),\n",
       "                                 <sklearn.compose._column_transformer.make_column_selector object at 0x0000014DDA000C40>)])"
      ]
     },
     "execution_count": 41,
     "metadata": {},
     "output_type": "execute_result"
    }
   ],
   "source": [
    "ct.fit(x_train)"
   ]
  },
  {
   "cell_type": "code",
   "execution_count": 42,
   "metadata": {},
   "outputs": [],
   "source": [
    "x_ttrain = ct.transform(x_train)"
   ]
  },
  {
   "cell_type": "code",
   "execution_count": 43,
   "metadata": {},
   "outputs": [],
   "source": [
    "x_ttest = ct.transform(x_test)"
   ]
  },
  {
   "cell_type": "code",
   "execution_count": 44,
   "metadata": {},
   "outputs": [
    {
     "data": {
      "text/plain": [
       "(9531, 1515)"
      ]
     },
     "execution_count": 44,
     "metadata": {},
     "output_type": "execute_result"
    }
   ],
   "source": [
    "x_ttrain.shape"
   ]
  },
  {
   "cell_type": "code",
   "execution_count": 45,
   "metadata": {},
   "outputs": [
    {
     "name": "stdout",
     "output_type": "stream",
     "text": [
      "<class 'pandas.core.frame.DataFrame'>\n",
      "Int64Index: 9531 entries, 6210 to 2241\n",
      "Data columns (total 13 columns):\n",
      " #   Column             Non-Null Count  Dtype \n",
      "---  ------             --------------  ----- \n",
      " 0   Year               9531 non-null   object\n",
      " 1   Engine Fuel Type   9531 non-null   object\n",
      " 2   Engine HP          9531 non-null   object\n",
      " 3   Engine Cylinders   9531 non-null   object\n",
      " 4   Transmission Type  9531 non-null   object\n",
      " 5   Driven_Wheels      9531 non-null   object\n",
      " 6   Number of Doors    9531 non-null   object\n",
      " 7   Vehicle Size       9531 non-null   object\n",
      " 8   Vehicle Style      9531 non-null   object\n",
      " 9   highway MPG        9531 non-null   object\n",
      " 10  city mpg           9531 non-null   object\n",
      " 11  Popularity         9531 non-null   object\n",
      " 12  Make_Model         9531 non-null   object\n",
      "dtypes: object(13)\n",
      "memory usage: 1.0+ MB\n"
     ]
    }
   ],
   "source": [
    "x_train1.info()"
   ]
  },
  {
   "cell_type": "code",
   "execution_count": 46,
   "metadata": {},
   "outputs": [],
   "source": [
    "#x_ttrain1=ct.fit_transform(x_train1.astype(str))"
   ]
  },
  {
   "cell_type": "code",
   "execution_count": 47,
   "metadata": {},
   "outputs": [
    {
     "data": {
      "text/plain": [
       "ColumnTransformer(transformers=[('scale', StandardScaler(),\n",
       "                                 <sklearn.compose._column_transformer.make_column_selector object at 0x0000014DD9F6BC40>),\n",
       "                                ('OneHot',\n",
       "                                 OneHotEncoder(handle_unknown='ignore'),\n",
       "                                 <sklearn.compose._column_transformer.make_column_selector object at 0x0000014DDA000C40>)])"
      ]
     },
     "execution_count": 47,
     "metadata": {},
     "output_type": "execute_result"
    }
   ],
   "source": [
    "ct.fit(x_train1.astype(str))"
   ]
  },
  {
   "cell_type": "code",
   "execution_count": 48,
   "metadata": {},
   "outputs": [],
   "source": [
    "x_ttrain1 = ct.transform(x_train1.astype(str))"
   ]
  },
  {
   "cell_type": "code",
   "execution_count": 49,
   "metadata": {},
   "outputs": [],
   "source": [
    "x_ttest1 = ct.transform(x_test1.astype(str))"
   ]
  },
  {
   "cell_type": "code",
   "execution_count": 50,
   "metadata": {},
   "outputs": [
    {
     "data": {
      "text/plain": [
       "ColumnTransformer(transformers=[('scale', StandardScaler(),\n",
       "                                 <sklearn.compose._column_transformer.make_column_selector object at 0x0000014DD9F6BC40>),\n",
       "                                ('OneHot',\n",
       "                                 OneHotEncoder(handle_unknown='ignore'),\n",
       "                                 <sklearn.compose._column_transformer.make_column_selector object at 0x0000014DDA000C40>)])"
      ]
     },
     "execution_count": 50,
     "metadata": {},
     "output_type": "execute_result"
    }
   ],
   "source": [
    "ct.fit(x_train2)"
   ]
  },
  {
   "cell_type": "code",
   "execution_count": 51,
   "metadata": {},
   "outputs": [],
   "source": [
    "x_ttrain2 = ct.transform(x_train2)"
   ]
  },
  {
   "cell_type": "code",
   "execution_count": 52,
   "metadata": {},
   "outputs": [],
   "source": [
    "x_ttest2 = ct.transform(x_test2)"
   ]
  },
  {
   "cell_type": "markdown",
   "metadata": {},
   "source": [
    "<a id='trainandtest'></a>\n",
    "## 3. Data Training and Testing\n",
    "<a href=#top>(back to top)</a>"
   ]
  },
  {
   "cell_type": "markdown",
   "metadata": {},
   "source": [
    "<a id='linear'></a>\n",
    "### Linear Regression Model"
   ]
  },
  {
   "cell_type": "code",
   "execution_count": 53,
   "metadata": {
    "scrolled": true
   },
   "outputs": [
    {
     "name": "stdout",
     "output_type": "stream",
     "text": [
      "The R2 value is: 0.97934\n"
     ]
    },
    {
     "data": {
      "image/png": "[encoded data removed]",
      "text/plain": [
       "<Figure size 432x288 with 1 Axes>"
      ]
     },
     "metadata": {
      "needs_background": "light"
     },
     "output_type": "display_data"
    }
   ],
   "source": [
    "linear = LinearRegression() # Linear Regression\n",
    "linear.fit(x_ttrain,y_train)\n",
    "y_pre_linear = linear.predict(x_ttest)\n",
    "linear_score = r2_score(y_test,y_pre_linear)\n",
    "#linear_score = cross_val_score(linear, y_test,y_pre_linear,cv=5,scoring = \"r2\").mean()\n",
    "\n",
    "plt.scatter(y_test, y_pre_linear, c = 'red', marker = 'o', edgecolors = 'white')\n",
    "plt.plot([y_test.min(),y_test.max()], [y_test.min(),y_test.max()], 'k--')\n",
    "plt.title('Linear Regression Result')\n",
    "plt.xlabel('test data')\n",
    "plt.ylabel('predicted data')\n",
    "plt.plot()\n",
    "\n",
    "print(f'The R2 value is: {linear_score.round(5)}')"
   ]
  },
  {
   "cell_type": "code",
   "execution_count": 54,
   "metadata": {
    "scrolled": true
   },
   "outputs": [
    {
     "name": "stdout",
     "output_type": "stream",
     "text": [
      "The R2 value is: 0.97935\n"
     ]
    },
    {
     "data": {
      "image/png": "[encoded data removed]",
      "text/plain": [
       "<Figure size 432x288 with 1 Axes>"
      ]
     },
     "metadata": {
      "needs_background": "light"
     },
     "output_type": "display_data"
    }
   ],
   "source": [
    "linear = LinearRegression() # Linear Regression\n",
    "linear.fit(x_ttrain1,y_train1)\n",
    "y_pre_linear = linear.predict(x_ttest1)\n",
    "linear_score = r2_score(y_test1,y_pre_linear)\n",
    "#linear_score = cross_val_score(linear, y_test,y_pre_linear,cv=5,scoring = \"r2\").mean()\n",
    "\n",
    "plt.scatter(y_test1, y_pre_linear, c = 'red', marker = 'o', edgecolors = 'white')\n",
    "plt.plot([y_test1.min(),y_test1.max()], [y_test1.min(),y_test1.max()], 'k--')\n",
    "plt.title('Linear Regression Result')\n",
    "plt.xlabel('test data')\n",
    "plt.ylabel('predicted data')\n",
    "plt.plot()\n",
    "\n",
    "print(f'The R2 value is: {linear_score.round(5)}')"
   ]
  },
  {
   "cell_type": "code",
   "execution_count": 55,
   "metadata": {
    "scrolled": true
   },
   "outputs": [
    {
     "name": "stdout",
     "output_type": "stream",
     "text": [
      "The R2 value is: 0.97909\n"
     ]
    },
    {
     "data": {
      "image/png": "[encoded data removed]",
      "text/plain": [
       "<Figure size 432x288 with 1 Axes>"
      ]
     },
     "metadata": {
      "needs_background": "light"
     },
     "output_type": "display_data"
    }
   ],
   "source": [
    "linear = LinearRegression() # Linear Regression\n",
    "linear.fit(x_ttrain2,y_train2)\n",
    "y_pre_linear = linear.predict(x_ttest2)\n",
    "linear_score = r2_score(y_test2,y_pre_linear)\n",
    "#linear_score = cross_val_score(linear, y_test,y_pre_linear,cv=5,scoring = \"r2\").mean()\n",
    "\n",
    "plt.scatter(y_test2, y_pre_linear, c = 'red', marker = 'o', edgecolors = 'white')\n",
    "plt.plot([y_test2.min(),y_test2.max()], [y_test2.min(),y_test2.max()], 'k--')\n",
    "plt.title('Linear Regression Result')\n",
    "plt.xlabel('test data')\n",
    "plt.ylabel('predicted data')\n",
    "plt.plot()\n",
    "\n",
    "print(f'The R2 value is: {linear_score.round(5)}')"
   ]
  },
  {
   "cell_type": "code",
   "execution_count": 162,
   "metadata": {
    "scrolled": true
   },
   "outputs": [
    {
     "name": "stdout",
     "output_type": "stream",
     "text": [
      "Linear Expained Value (EV)： 0.97934\n",
      "Linear Mean Absolute Error (MAE)： 3055.78682\n",
      "Linear Mean Squared Error (MSE)： 67731675.64578\n",
      "Linear Rooted Mean Squared Error (RMSE)： 8229.92562\n"
     ]
    }
   ],
   "source": [
    "linear_EV = explained_variance_score(y_test, y_pre_linear)\n",
    "linear_MAE = mean_absolute_error(y_test, y_pre_linear)\n",
    "linear_MSE = mean_squared_error(y_test, y_pre_linear)\n",
    "linear_RMSE = np.sqrt(mean_squared_error(y_test, y_pre_linear))\n",
    "\n",
    "print('Linear Expained Value (EV)：',linear_EV.round(5))\n",
    "print('Linear Mean Absolute Error (MAE)：',linear_MAE.round(5))\n",
    "print('Linear Mean Squared Error (MSE)：',linear_MSE.round(5))\n",
    "print('Linear Rooted Mean Squared Error (RMSE)：',linear_RMSE.round(5))"
   ]
  },
  {
   "cell_type": "markdown",
   "metadata": {},
   "source": [
    "<a id='ridege'></a>\n",
    "### Ridege Regression Model"
   ]
  },
  {
   "cell_type": "code",
   "execution_count": 164,
   "metadata": {
    "scrolled": true
   },
   "outputs": [
    {
     "name": "stdout",
     "output_type": "stream",
     "text": [
      "The R2 value is: 0.96617\n"
     ]
    },
    {
     "data": {
      "image/png": "[encoded data removed]",
      "text/plain": [
       "<Figure size 432x288 with 1 Axes>"
      ]
     },
     "metadata": {
      "needs_background": "light"
     },
     "output_type": "display_data"
    }
   ],
   "source": [
    "ridge = Ridge() # Ridge Regression\n",
    "ridge.fit(x_ttrain,y_train)\n",
    "y_pre_ridge = ridge.predict(x_ttest)\n",
    "ridge_score =r2_score(y_test,y_pre_ridge)\n",
    "\n",
    "plt.scatter(y_test, y_pre_ridge, c = 'red', marker = 'o', edgecolors = 'white')\n",
    "plt.plot([y_test.min(),y_test.max()], [y_test.min(),y_test.max()], 'k--')\n",
    "plt.title('Ridge Regression Result')\n",
    "plt.xlabel('test data')\n",
    "plt.ylabel('predicted data')\n",
    "plt.plot()\n",
    "\n",
    "print(f'The R2 value is: {ridge_score.round(5)}')"
   ]
  },
  {
   "cell_type": "code",
   "execution_count": 165,
   "metadata": {},
   "outputs": [
    {
     "name": "stdout",
     "output_type": "stream",
     "text": [
      "Ridge Expained Value (EV)： 0.96617\n",
      "Ridge Mean Absolute Error (MAE)： 4654.39512\n",
      "Ridge Mean Squared Error (MSE)： 110913285.7094\n",
      "Ridge Rooted Mean Squared Error (RMSE)： 10531.53767\n"
     ]
    }
   ],
   "source": [
    "ridge_EV = explained_variance_score(y_test, y_pre_ridge)\n",
    "ridge_MAE = mean_absolute_error(y_test, y_pre_ridge)\n",
    "ridge_MSE = mean_squared_error(y_test, y_pre_ridge)\n",
    "ridge_RMSE = np.sqrt(ridge_MSE)\n",
    "\n",
    "print('Ridge Expained Value (EV)：',ridge_EV.round(5))\n",
    "print('Ridge Mean Absolute Error (MAE)：',ridge_MAE.round(5))\n",
    "print('Ridge Mean Squared Error (MSE)：',ridge_MSE.round(5))\n",
    "print('Ridge Rooted Mean Squared Error (RMSE)：',ridge_RMSE.round(5))"
   ]
  },
  {
   "cell_type": "markdown",
   "metadata": {},
   "source": [
    "<a id='knn'></a>\n",
    "### KNN Regression Model"
   ]
  },
  {
   "cell_type": "markdown",
   "metadata": {},
   "source": [
    "Default configuration:\n",
    "K = 5"
   ]
  },
  {
   "cell_type": "code",
   "execution_count": 167,
   "metadata": {},
   "outputs": [
    {
     "name": "stdout",
     "output_type": "stream",
     "text": [
      "The cross validation R2 score is: 0.87693\n"
     ]
    },
    {
     "data": {
      "image/png": "[encoded data removed]",
      "text/plain": [
       "<Figure size 432x288 with 1 Axes>"
      ]
     },
     "metadata": {
      "needs_background": "light"
     },
     "output_type": "display_data"
    }
   ],
   "source": [
    "knn = KNeighborsRegressor(weights = 'uniform') # Knn Regression\n",
    "knn.fit(x_ttrain,y_train)\n",
    "y_pre_knn = knn.predict(x_ttest)\n",
    "knn_score1 = r2_score(y_test,y_pre_knn)\n",
    "#adj_r2 = (1 - (1 - knn_score) * ((train.shape[0] - 1) / (train.shape[0] - train.shape[1] - 1)))\n",
    "#knn_cross_val_score = cross_val_score(knn, x_train, y_train, cv=10 ,scoring = \"r2\")\n",
    "#print(knn_cross_val_score)\n",
    "#knn_score1 = cross_val_score(knn,x_ttrain,y_train,cv=5,scoring='r2').mean()\n",
    "\n",
    "plt.scatter(y_test, y_pre_knn, c = 'red', marker = 'o', edgecolors = 'white')\n",
    "#sns.scatterplot(y_true, y_pre_linear)\n",
    "plt.plot([y_test.min(),y_test.max()], [y_test.min(),y_test.max()], 'k--')\n",
    "plt.title('KNN Regression Result')\n",
    "plt.xlabel('test data')\n",
    "plt.ylabel('predicted data')\n",
    "plt.plot()\n",
    "\n",
    "#print(f'The R2 value is: {knn_score.round(5)}')\n",
    "#print(f'The Adjusted R2 value is: {adj_r2.round(5)}')\n",
    "print(f'The cross validation R2 score is: {knn_score1.round(5)}')"
   ]
  },
  {
   "cell_type": "code",
   "execution_count": 168,
   "metadata": {},
   "outputs": [
    {
     "name": "stdout",
     "output_type": "stream",
     "text": [
      "KNN Expained Value (EV)： 0.87695\n",
      "KNN Mean Absolute Error (MAE)： 4659.6543\n",
      "KNN Mean Squared Error (MSE)： 403482392.47555\n",
      "KNN Rooted Mean Squared Error (RMSE)： 20086.87115\n"
     ]
    }
   ],
   "source": [
    "knn_EV = explained_variance_score(y_test, y_pre_knn)\n",
    "knn_MAE = mean_absolute_error(y_test, y_pre_knn)\n",
    "knn_MSE = mean_squared_error(y_test, y_pre_knn)\n",
    "knn_RMSE = np.sqrt(knn_MSE)\n",
    "\n",
    "print('KNN Expained Value (EV)：',knn_EV.round(5))\n",
    "print('KNN Mean Absolute Error (MAE)：',knn_MAE.round(5))\n",
    "print('KNN Mean Squared Error (MSE)：',knn_MSE.round(5))\n",
    "print('KNN Rooted Mean Squared Error (RMSE)：',knn_RMSE.round(5))"
   ]
  },
  {
   "cell_type": "markdown",
   "metadata": {},
   "source": [
    "#### Parameter adjustment"
   ]
  },
  {
   "cell_type": "code",
   "execution_count": 100,
   "metadata": {
    "scrolled": false
   },
   "outputs": [
    {
     "data": {
      "image/png": "[encoded data removed]",
      "text/plain": [
       "<Figure size 576x360 with 1 Axes>"
      ]
     },
     "metadata": {
      "needs_background": "light"
     },
     "output_type": "display_data"
    },
    {
     "name": "stdout",
     "output_type": "stream",
     "text": [
      "Running time: 0 min\n"
     ]
    }
   ],
   "source": [
    "start = time()\n",
    "\n",
    "score_list =[]\n",
    "for i in np.arange(1,11):\n",
    "    knn = KNeighborsRegressor(i,weights='uniform')\n",
    "    knn.fit(x_ttrain,y_train)\n",
    "    y_pre_knn = knn.predict(x_ttest)\n",
    "    #score = cross_val_score(knn,x_ttest,y_test,cv=5,scoring='r2').mean()\n",
    "    score = r2_score(y_test,y_pre_knn)\n",
    "    score_list.append(score)\n",
    "    scoreall = np.array(score_list)\n",
    "\n",
    "plt.figure(figsize=[8,5])\n",
    "plt.axvline(x = 3.0, c = 'r', ls = '--')\n",
    "plt.plot(range(1,11),score_list)\n",
    "plt.title('KNN Regression Result')\n",
    "plt.xlabel('K Value')\n",
    "plt.ylabel('R2 value')\n",
    "plt.show()\n",
    "\n",
    "stop = time()\n",
    "total_time= int((stop-start)/60)\n",
    "print(f'Running time: {total_time} min')"
   ]
  },
  {
   "cell_type": "code",
   "execution_count": 101,
   "metadata": {},
   "outputs": [
    {
     "name": "stdout",
     "output_type": "stream",
     "text": [
      "The cross validation R2 score is: 0.92381\n"
     ]
    },
    {
     "data": {
      "image/png": "[encoded data removed]",
      "text/plain": [
       "<Figure size 432x288 with 1 Axes>"
      ]
     },
     "metadata": {
      "needs_background": "light"
     },
     "output_type": "display_data"
    }
   ],
   "source": [
    "knn = KNeighborsRegressor(n_neighbors=3, weights = 'uniform') # Knn Regression\n",
    "knn.fit(x_ttrain,y_train)\n",
    "y_pre_knn = knn.predict(x_ttest)\n",
    "knn_score1 = r2_score(y_test,y_pre_knn)\n",
    "#adj_r2 = (1 - (1 - knn_score) * ((train.shape[0] - 1) / (train.shape[0] - train.shape[1] - 1)))\n",
    "#knn_cross_val_score = cross_val_score(knn, x_train, y_train, cv=10 ,scoring = \"r2\")\n",
    "#print(knn_cross_val_score)\n",
    "#knn_score1 = cross_val_score(knn,x_ttrain,y_train,cv=5,scoring='r2').mean()\n",
    "\n",
    "plt.scatter(y_test, y_pre_knn, c = 'red', marker = 'o', edgecolors = 'white')\n",
    "#sns.scatterplot(y_true, y_pre_linear)\n",
    "plt.plot([y_test.min(),y_test.max()], [y_test.min(),y_test.max()], 'k--')\n",
    "plt.title('KNN Regression Result')\n",
    "plt.xlabel('test data')\n",
    "plt.ylabel('predicted data')\n",
    "plt.plot()\n",
    "\n",
    "#print(f'The R2 value is: {knn_score.round(5)}')\n",
    "#print(f'The Adjusted R2 value is: {adj_r2.round(5)}')\n",
    "print(f'The cross validation R2 score is: {knn_score1.round(5)}')"
   ]
  },
  {
   "cell_type": "markdown",
   "metadata": {},
   "source": [
    "<a id='decision'></a>\n",
    "### Decision Tree Regression Model"
   ]
  },
  {
   "cell_type": "code",
   "execution_count": 169,
   "metadata": {
    "scrolled": false
   },
   "outputs": [
    {
     "name": "stdout",
     "output_type": "stream",
     "text": [
      "The cross validation R2 score is: 0.95828\n"
     ]
    },
    {
     "data": {
      "image/png": "[encoded data removed]",
      "text/plain": [
       "<Figure size 432x288 with 1 Axes>"
      ]
     },
     "metadata": {
      "needs_background": "light"
     },
     "output_type": "display_data"
    }
   ],
   "source": [
    "decision = DecisionTreeRegressor() # Decision Tree Regression\n",
    "decision.fit(x_ttrain,y_train)\n",
    "y_pre_decision = decision.predict(x_ttest)\n",
    "DT_score =r2_score(y_test,y_pre_decision)\n",
    "#adj_r2 = (1 - (1 - decision_score) * ((train.shape[0] - 1) / (train.shape[0] - train.shape[1] - 1)))\n",
    "#DT_score = cross_val_score(decision, x_ttrain, y_train, cv=5 ,scoring = \"r2\").mean()\n",
    "#neg_mean_squared_error\n",
    "plt.scatter(y_test, y_pre_decision, c = 'red', marker = 'o', edgecolors = 'white')\n",
    "#sns.scatterplot(y_true, y_pre_linear)\n",
    "plt.plot([y_test.min(),y_test.max()], [y_test.min(),y_test.max()], 'k--')\n",
    "plt.title('Decision Tree Regression Result')\n",
    "plt.xlabel('test data')\n",
    "plt.ylabel('predicted data')\n",
    "plt.plot()\n",
    "\n",
    "#print(f'The R2 value is: {decision_score.round(5)}')\n",
    "#print(f'The Adjusted R2 value is: {decision_score.round(5)}')\n",
    "print(f'The cross validation R2 score is: {DT_score.round(5)}')"
   ]
  },
  {
   "cell_type": "code",
   "execution_count": 170,
   "metadata": {
    "scrolled": true
   },
   "outputs": [
    {
     "name": "stdout",
     "output_type": "stream",
     "text": [
      "DT Expained Value (EV)： 0.95829\n",
      "DT Mean Absolute Error (MAE)： 3876.13604\n",
      "DT Mean Squared Error (MSE)： 136782492.02897\n",
      "DT Rooted Mean Squared Error (RMSE)： 11695.40474\n"
     ]
    }
   ],
   "source": [
    "DT_EV = explained_variance_score(y_test, y_pre_decision)\n",
    "DT_MAE = mean_absolute_error(y_test, y_pre_decision)\n",
    "DT_MSE = mean_squared_error(y_test, y_pre_decision)\n",
    "DT_RMSE = np.sqrt(DT_MSE)\n",
    "\n",
    "print('DT Expained Value (EV)：',DT_EV.round(5))\n",
    "print('DT Mean Absolute Error (MAE)：',DT_MAE.round(5))\n",
    "print('DT Mean Squared Error (MSE)：',DT_MSE.round(5))\n",
    "print('DT Rooted Mean Squared Error (RMSE)：',DT_RMSE.round(5))"
   ]
  },
  {
   "cell_type": "markdown",
   "metadata": {},
   "source": [
    "<a id='rfr'></a>\n",
    "### Random Forest Regression Model"
   ]
  },
  {
   "cell_type": "markdown",
   "metadata": {},
   "source": [
    "#### Random Forest Regression (using original data)\n",
    "\n",
    "Default configuration:\n",
    "\n",
    "n_estimators = 100\\\n",
    "max_depth = None\\\n",
    "min_samples_leaf = 1\\\n",
    "min_samples_split = 2\\\n",
    "max_features = 'auto'"
   ]
  },
  {
   "cell_type": "code",
   "execution_count": 172,
   "metadata": {
    "scrolled": true
   },
   "outputs": [
    {
     "name": "stdout",
     "output_type": "stream",
     "text": [
      "The oob_score is: 0.902\n",
      "Running time: 0 min\n"
     ]
    }
   ],
   "source": [
    "#Calculate oob score\n",
    "start = time()\n",
    "\n",
    "rfr = RandomForestRegressor(random_state = 5022, oob_score = True) # Random Forest Regression\n",
    "rfr.fit(x_ttrain,y_train)\n",
    "rfr_y_predict = rfr.predict(x_ttest)\n",
    "oob_score1 = rfr.oob_score_\n",
    "#score = r2_score(y_test,rfr_y_predict)\n",
    "\n",
    "print(f'The oob_score is: {oob_score1.round(3)}')\n",
    "#print(r2_score)\n",
    "\n",
    "stop = time()\n",
    "total_time= int((stop-start)/60)\n",
    "print(f'Running time: {total_time} min')"
   ]
  },
  {
   "cell_type": "code",
   "execution_count": 173,
   "metadata": {},
   "outputs": [
    {
     "name": "stdout",
     "output_type": "stream",
     "text": [
      "The train R2 score is: 0.78957\n",
      "The test R2 score is: 0.96895\n",
      "The predict R2 score is: 0.96895\n",
      "Running time: 1 min\n"
     ]
    },
    {
     "data": {
      "image/png": "[encoded data removed]",
      "text/plain": [
       "<Figure size 432x288 with 1 Axes>"
      ]
     },
     "metadata": {
      "needs_background": "light"
     },
     "output_type": "display_data"
    }
   ],
   "source": [
    "start = time()\n",
    "'''\n",
    "rfr = RandomForestRegressor(random_state = 5022) # Random Forest Regression\n",
    "rfr.fit(x_train,y_train)\n",
    "rfr_y_predict = rfr.predict(x_test)'''\n",
    "#rfr_score = rfr.oob_score_\n",
    "#rfr_r2_score_train1 = rfr.score(x_train, y_train)\n",
    "rfr_r2_score_train1 = cross_val_score(rfr,x_ttrain,y_train,cv=3,scoring='r2').mean()\n",
    "rfr_r2_score_test1 = rfr.score(x_ttest,y_test)\n",
    "rfr_r2_score1 = r2_score(y_test,rfr_y_predict)\n",
    "\n",
    "plt.scatter(y_test, rfr_y_predict, c = 'red', marker = 'o', edgecolors = 'white')\n",
    "#sns.scatterplot(y_true, y_pre_linear)\n",
    "plt.plot([y_test.min(),y_test.max()], [y_test.min(),y_test.max()], 'k--')\n",
    "plt.title('Random Forest Regression Result')\n",
    "plt.xlabel('test data')\n",
    "plt.ylabel('predicted data')\n",
    "plt.plot()\n",
    "\n",
    "#print(f'The obb score is: {rfr_score.round(3)}')\n",
    "print(f'The train R2 score is: {rfr_r2_score_train1.round(5)}')\n",
    "print(f'The test R2 score is: {rfr_r2_score_test1.round(5)}')\n",
    "print(f'The predict R2 score is: {rfr_r2_score1.round(5)}')\n",
    "\n",
    "stop = time()\n",
    "total_time= int((stop-start)/60)\n",
    "print(f'Running time: {total_time} min')"
   ]
  },
  {
   "cell_type": "code",
   "execution_count": 174,
   "metadata": {
    "scrolled": true
   },
   "outputs": [
    {
     "name": "stdout",
     "output_type": "stream",
     "text": [
      "RF Expained Value (EV)： 0.96898\n",
      "RF Mean Absolute Error (MAE)： 3716.31467\n",
      "RF Mean Squared Error (MSE)： 101802229.6377\n",
      "RF Rooted Mean Squared Error (RMSE)： 10089.7091\n"
     ]
    }
   ],
   "source": [
    "rfr_EV1 = explained_variance_score(y_test, rfr_y_predict)\n",
    "rfr_MAE1 = mean_absolute_error(y_test, rfr_y_predict)\n",
    "rfr_MSE1 = mean_squared_error(y_test, rfr_y_predict)\n",
    "rfr_RMSE1 = np.sqrt(mean_squared_error(y_test, rfr_y_predict))\n",
    "\n",
    "print('RF Expained Value (EV)：',rfr_EV1.round(5))\n",
    "print('RF Mean Absolute Error (MAE)：',rfr_MAE1.round(5))\n",
    "print('RF Mean Squared Error (MSE)：',rfr_MSE1.round(5))\n",
    "print('RF Rooted Mean Squared Error (RMSE)：',rfr_RMSE1.round(5))"
   ]
  },
  {
   "cell_type": "code",
   "execution_count": 100,
   "metadata": {},
   "outputs": [],
   "source": [
    "#score1 = cross_val_score(rfr,x_train,y_train,cv=10,scoring='neg_mean_absolute_error').mean()\n",
    "#score2 = cross_val_score(rfr,x_train,y_train,cv=10,scoring='neg_root_mean_squared_error').mean()\n",
    "#score3 = cross_val_score(rfr,x_train,y_train,cv=10,scoring='neg_mean_squared_error').mean()"
   ]
  },
  {
   "cell_type": "code",
   "execution_count": 99,
   "metadata": {},
   "outputs": [],
   "source": [
    "#print(score1, score2,score3)"
   ]
  },
  {
   "cell_type": "markdown",
   "metadata": {},
   "source": [
    "#### Parameters adjustment (using original data)\n",
    "\n",
    "n_estimators\\\n",
    "max_depth\\\n",
    "min_samples_leaf\\\n",
    "min_samples_split\\\n",
    "max_features"
   ]
  },
  {
   "cell_type": "code",
   "execution_count": 103,
   "metadata": {},
   "outputs": [
    {
     "name": "stdout",
     "output_type": "stream",
     "text": [
      "10\n",
      "60\n",
      "110\n",
      "160\n",
      "210\n",
      "260\n",
      "310\n",
      "360\n",
      "410\n",
      "460\n",
      "510\n"
     ]
    }
   ],
   "source": [
    "for i in range(10,511,50):\n",
    "    print(i)"
   ]
  },
  {
   "cell_type": "code",
   "execution_count": 109,
   "metadata": {
    "scrolled": false
   },
   "outputs": [
    {
     "name": "stdout",
     "output_type": "stream",
     "text": [
      "Optimized parameters and respective score: [260.           0.90465839]\n"
     ]
    },
    {
     "data": {
      "image/png": "[encoded data removed]",
      "text/plain": [
       "<Figure size 576x360 with 1 Axes>"
      ]
     },
     "metadata": {
      "needs_background": "light"
     },
     "output_type": "display_data"
    },
    {
     "name": "stdout",
     "output_type": "stream",
     "text": [
      "Running time: 21 min\n"
     ]
    }
   ],
   "source": [
    "#n_estimators adjustment\n",
    "start = time()\n",
    "\n",
    "import warnings\n",
    "warnings.filterwarnings('ignore')\n",
    "\n",
    "ScoreAll = []\n",
    "for i in range(10,511,50):\n",
    "    rfr = RandomForestRegressor(n_estimators = i, random_state = 5022, oob_score = True) # Random Forest Regression\n",
    "    rfr.fit(x_ttrain,y_train)\n",
    "    rfr_y_predict = rfr.predict(x_ttest)\n",
    "    #score = r2_score(y_test,rfr_y_predict)\n",
    "    score = rfr.oob_score_\n",
    "    ScoreAll.append([i,score])\n",
    "ScoreAll = np.array(ScoreAll)\n",
    "\n",
    "max_score = np.where(ScoreAll==np.max(ScoreAll[:,1]))[0][0]\n",
    "print(\"Optimized parameters and respective score:\",ScoreAll[max_score])  \n",
    "plt.figure(figsize=[8,5])\n",
    "plt.plot(ScoreAll[:,0],ScoreAll[:,1],marker = '.')\n",
    "plt.title('OOB_Score VS Number_of_Trees')\n",
    "plt.xlabel('Number_of_Trees')\n",
    "plt.ylabel('OOB_Score')\n",
    "plt.show()\n",
    "\n",
    "stop = time()\n",
    "total_time= int((stop-start)/60)\n",
    "print(f'Running time: {total_time} min')"
   ]
  },
  {
   "cell_type": "code",
   "execution_count": 110,
   "metadata": {},
   "outputs": [
    {
     "name": "stdout",
     "output_type": "stream",
     "text": [
      "210\n",
      "220\n",
      "230\n",
      "240\n",
      "250\n",
      "260\n",
      "270\n",
      "280\n",
      "290\n",
      "300\n",
      "310\n"
     ]
    }
   ],
   "source": [
    "for i in range(210,311,10):\n",
    "    print(i)"
   ]
  },
  {
   "cell_type": "code",
   "execution_count": 111,
   "metadata": {
    "scrolled": false
   },
   "outputs": [
    {
     "name": "stdout",
     "output_type": "stream",
     "text": [
      "Optimized parameters and respective score: [290.           0.90519996]\n"
     ]
    },
    {
     "data": {
      "image/png": "[encoded data removed]",
      "text/plain": [
       "<Figure size 576x360 with 1 Axes>"
      ]
     },
     "metadata": {
      "needs_background": "light"
     },
     "output_type": "display_data"
    },
    {
     "name": "stdout",
     "output_type": "stream",
     "text": [
      "Running time: 21 min\n"
     ]
    }
   ],
   "source": [
    "#Narrow down the range of n_estimators\n",
    "\n",
    "start = time()\n",
    "\n",
    "import warnings\n",
    "warnings.filterwarnings('ignore')\n",
    "\n",
    "ScoreAll = []\n",
    "for i in range(210,311,10):\n",
    "    rfr = RandomForestRegressor(n_estimators = i, random_state = 5022, oob_score = True) # Random Forest Regression\n",
    "    rfr.fit(x_ttrain,y_train)\n",
    "    rfr_y_predict = rfr.predict(x_ttest)\n",
    "    #score = r2_score(y_test,rfr_y_predict)\n",
    "    score = rfr.oob_score_\n",
    "    ScoreAll.append([i,score])\n",
    "ScoreAll = np.array(ScoreAll)\n",
    "\n",
    "max_score = np.where(ScoreAll==np.max(ScoreAll[:,1]))[0][0]\n",
    "print(\"Optimized parameters and respective score:\",ScoreAll[max_score])  \n",
    "plt.figure(figsize=[8,5])\n",
    "plt.plot(ScoreAll[:,0],ScoreAll[:,1])\n",
    "plt.title('OOB_Score VS Number_of_Trees')\n",
    "plt.xlabel('Number_of_Trees')\n",
    "plt.ylabel('OOB_Score')\n",
    "plt.show()\n",
    "\n",
    "stop = time()\n",
    "total_time= int((stop-start)/60)\n",
    "print(f'Running time: {total_time} min')"
   ]
  },
  {
   "cell_type": "code",
   "execution_count": 112,
   "metadata": {
    "scrolled": false
   },
   "outputs": [
    {
     "name": "stdout",
     "output_type": "stream",
     "text": [
      "Optimized parameters and respective score: [285.           0.90541181]\n"
     ]
    },
    {
     "data": {
      "image/png": "[encoded data removed]",
      "text/plain": [
       "<Figure size 576x360 with 1 Axes>"
      ]
     },
     "metadata": {
      "needs_background": "light"
     },
     "output_type": "display_data"
    },
    {
     "name": "stdout",
     "output_type": "stream",
     "text": [
      "Running time: 21 min\n"
     ]
    }
   ],
   "source": [
    "#Narrow down the range of n_estimators\n",
    "\n",
    "start = time()\n",
    "\n",
    "import warnings\n",
    "warnings.filterwarnings('ignore')\n",
    "\n",
    "ScoreAll = []\n",
    "for i in range(281,300,2):\n",
    "    rfr = RandomForestRegressor(n_estimators = i, random_state = 5022, oob_score = True) # Random Forest Regression\n",
    "    rfr.fit(x_ttrain,y_train)\n",
    "    rfr_y_predict = rfr.predict(x_ttest)\n",
    "    #score = r2_score(y_test,rfr_y_predict)\n",
    "    score = rfr.oob_score_\n",
    "    ScoreAll.append([i,score])\n",
    "ScoreAll = np.array(ScoreAll)\n",
    "\n",
    "max_score = np.where(ScoreAll==np.max(ScoreAll[:,1]))[0][0]\n",
    "print(\"Optimized parameters and respective score:\",ScoreAll[max_score])  \n",
    "plt.figure(figsize=[8,5])\n",
    "plt.plot(ScoreAll[:,0],ScoreAll[:,1])\n",
    "plt.title('OOB_Score VS Number_of_Trees')\n",
    "plt.xlabel('Number_of_Trees')\n",
    "plt.ylabel('OOB_Score')\n",
    "plt.show()\n",
    "\n",
    "stop = time()\n",
    "total_time= int((stop-start)/60)\n",
    "print(f'Running time: {total_time} min')"
   ]
  },
  {
   "cell_type": "code",
   "execution_count": 115,
   "metadata": {},
   "outputs": [
    {
     "name": "stdout",
     "output_type": "stream",
     "text": [
      "Optimized parameters and respective score: [45.          0.90580138]\n"
     ]
    },
    {
     "data": {
      "image/png": "[encoded data removed]",
      "text/plain": [
       "<Figure size 576x360 with 1 Axes>"
      ]
     },
     "metadata": {
      "needs_background": "light"
     },
     "output_type": "display_data"
    },
    {
     "name": "stdout",
     "output_type": "stream",
     "text": [
      "Running time: 12 min\n"
     ]
    }
   ],
   "source": [
    "###Max_depth parameters\n",
    "\n",
    "start = time()\n",
    "\n",
    "ScoreAll = []\n",
    "for i in range(10,51,5):\n",
    "    rfr = RandomForestRegressor(n_estimators = 285, random_state = 5022,\\\n",
    "                                max_depth = i, oob_score = True) # Random Forest Regression\n",
    "    rfr.fit(x_ttrain,y_train)\n",
    "    rfr_y_predict = rfr.predict(x_ttest)\n",
    "    #score = r2_score(y_test,rfr_y_predict)\n",
    "    score = rfr.oob_score_\n",
    "    ScoreAll.append([i,score])\n",
    "ScoreAll = np.array(ScoreAll)\n",
    "\n",
    "max_score = np.where(ScoreAll==np.max(ScoreAll[:,1]))[0][0]\n",
    "print(\"Optimized parameters and respective score:\",ScoreAll[max_score])  \n",
    "plt.figure(figsize=[8,5])\n",
    "plt.plot(ScoreAll[:,0],ScoreAll[:,1])\n",
    "plt.title('OOB_Score VS Max_Depth')\n",
    "plt.xlabel('Max_Depth')\n",
    "plt.ylabel('OOB_Score')\n",
    "plt.show()\n",
    "\n",
    "stop = time()\n",
    "total_time= int((stop-start)/60)\n",
    "print(f'Running time: {total_time} min')"
   ]
  },
  {
   "cell_type": "code",
   "execution_count": 116,
   "metadata": {},
   "outputs": [
    {
     "name": "stdout",
     "output_type": "stream",
     "text": [
      "Optimized parameters and respective score: [2.         0.90580138]\n"
     ]
    },
    {
     "data": {
      "image/png": "[encoded data removed]",
      "text/plain": [
       "<Figure size 576x360 with 1 Axes>"
      ]
     },
     "metadata": {
      "needs_background": "light"
     },
     "output_type": "display_data"
    },
    {
     "name": "stdout",
     "output_type": "stream",
     "text": [
      "Running time: 25 min\n"
     ]
    }
   ],
   "source": [
    "#Min_samples_split\n",
    "start = time()\n",
    "\n",
    "ScoreAll = []\n",
    "for i in range(2,20):\n",
    "    rfr = RandomForestRegressor(n_estimators = 285, random_state = 5022,\\\n",
    "                                max_depth = 45, min_samples_split = i, oob_score = True) # Random Forest Regression\n",
    "    rfr.fit(x_ttrain,y_train)\n",
    "    rfr_y_predict = rfr.predict(x_ttest)\n",
    "    #score = r2_score(y_test,rfr_y_predict)\n",
    "    score = rfr.oob_score_\n",
    "    ScoreAll.append([i,score])\n",
    "ScoreAll = np.array(ScoreAll)\n",
    "\n",
    "max_score = np.where(ScoreAll==np.max(ScoreAll[:,1]))[0][0]\n",
    "print(\"Optimized parameters and respective score:\",ScoreAll[max_score])  \n",
    "plt.figure(figsize=[8,5])\n",
    "plt.plot(ScoreAll[:,0],ScoreAll[:,1])\n",
    "plt.title('OOB_Score VS Min_Samples_Split')\n",
    "plt.xlabel('Min_Samples_Split')\n",
    "plt.ylabel('OOB_Score')\n",
    "plt.show()\n",
    "\n",
    "stop = time()\n",
    "total_time= int((stop-start)/60)\n",
    "print(f'Running time: {total_time} min')"
   ]
  },
  {
   "cell_type": "code",
   "execution_count": 117,
   "metadata": {
    "scrolled": false
   },
   "outputs": [
    {
     "name": "stdout",
     "output_type": "stream",
     "text": [
      "Optimized parameters and respective score: [1.         0.90580138]\n"
     ]
    },
    {
     "data": {
      "image/png": "[encoded data removed]",
      "text/plain": [
       "<Figure size 576x360 with 1 Axes>"
      ]
     },
     "metadata": {
      "needs_background": "light"
     },
     "output_type": "display_data"
    },
    {
     "name": "stdout",
     "output_type": "stream",
     "text": [
      "Running time: 11 min\n"
     ]
    }
   ],
   "source": [
    "#Min_samples_leaf\n",
    "start = time()\n",
    "\n",
    "ScoreAll = []\n",
    "for i in range(1,10):\n",
    "    rfr = RandomForestRegressor(n_estimators = 285,random_state = 5022,max_depth =45,\\\n",
    "                                 min_samples_leaf = i,min_samples_split = 2, oob_score = True ) \n",
    "    rfr.fit(x_ttrain,y_train)\n",
    "    rfr_y_predict = rfr.predict(x_ttest)\n",
    "    #score = r2_score(y_test,rfr_y_predict)\n",
    "    score = rfr.oob_score_\n",
    "    ScoreAll.append([i,score])\n",
    "ScoreAll = np.array(ScoreAll)\n",
    "\n",
    "max_score = np.where(ScoreAll==np.max(ScoreAll[:,1]))[0][0] \n",
    "print(\"Optimized parameters and respective score:\",ScoreAll[max_score])  \n",
    "plt.figure(figsize=[8,5])\n",
    "plt.plot(ScoreAll[:,0],ScoreAll[:,1])\n",
    "plt.title('OOB_Score VS Min_Samples_Leaf')\n",
    "plt.xlabel('Min_Samples_Leaf')\n",
    "plt.ylabel('OOB_Score')\n",
    "plt.show()\n",
    "\n",
    "stop = time()\n",
    "total_time= int((stop-start)/60)\n",
    "print(f'Running time: {total_time} min')"
   ]
  },
  {
   "cell_type": "code",
   "execution_count": 118,
   "metadata": {},
   "outputs": [
    {
     "name": "stdout",
     "output_type": "stream",
     "text": [
      "Optimized parameters and respective score: [600.           0.90248374]\n"
     ]
    },
    {
     "data": {
      "image/png": "[encoded data removed]",
      "text/plain": [
       "<Figure size 576x360 with 1 Axes>"
      ]
     },
     "metadata": {
      "needs_background": "light"
     },
     "output_type": "display_data"
    },
    {
     "name": "stdout",
     "output_type": "stream",
     "text": [
      "Running time: 14 min\n"
     ]
    }
   ],
   "source": [
    "#Max_features\n",
    "start = time()\n",
    "\n",
    "ScoreAll = []\n",
    "for i in range(100,701,50):\n",
    "    rfr = RandomForestRegressor(random_state = 5022,n_estimators = 285,max_depth = 45,\\\n",
    "                                 min_samples_leaf =1 ,min_samples_split = 2, max_features = i, oob_score = True )\n",
    "    rfr.fit(x_ttrain,y_train)\n",
    "    rfr_y_predict = rfr.predict(x_ttest)\n",
    "    #score = r2_score(y_test,rfr_y_predict)\n",
    "    score = rfr.oob_score_\n",
    "    ScoreAll.append([i,score])\n",
    "ScoreAll = np.array(ScoreAll)\n",
    "\n",
    "max_score = np.where(ScoreAll==np.max(ScoreAll[:,1]))[0][0] \n",
    "print(\"Optimized parameters and respective score:\",ScoreAll[max_score])  \n",
    "plt.figure(figsize=[8,5])\n",
    "plt.plot(ScoreAll[:,0],ScoreAll[:,1])\n",
    "plt.title('OOB_Score VS Max_Features')\n",
    "plt.xlabel('Max_Features')\n",
    "plt.ylabel('OOB_Score')\n",
    "plt.show()\n",
    "\n",
    "stop = time()\n",
    "total_time= int((stop-start)/60)\n",
    "print(f'Running time: {total_time} min')"
   ]
  },
  {
   "cell_type": "code",
   "execution_count": 119,
   "metadata": {
    "scrolled": false
   },
   "outputs": [
    {
     "name": "stdout",
     "output_type": "stream",
     "text": [
      "Optimized parameters and respective score: [610.       0.9029]\n"
     ]
    },
    {
     "data": {
      "image/png": "[encoded data removed]",
      "text/plain": [
       "<Figure size 576x360 with 1 Axes>"
      ]
     },
     "metadata": {
      "needs_background": "light"
     },
     "output_type": "display_data"
    },
    {
     "name": "stdout",
     "output_type": "stream",
     "text": [
      "Running time: 13 min\n"
     ]
    }
   ],
   "source": [
    "#Max_features\n",
    "start = time()\n",
    "\n",
    "ScoreAll = []\n",
    "for i in range(550,651,10):\n",
    "    rfr = RandomForestRegressor(random_state = 5022,n_estimators = 285,max_depth = 45,\\\n",
    "                                 min_samples_leaf =1 ,min_samples_split = 2, max_features = i, oob_score = True )\n",
    "    rfr.fit(x_ttrain,y_train)\n",
    "    rfr_y_predict = rfr.predict(x_ttest)\n",
    "    #score = r2_score(y_test,rfr_y_predict)\n",
    "    score = rfr.oob_score_\n",
    "    ScoreAll.append([i,score])\n",
    "ScoreAll = np.array(ScoreAll)\n",
    "\n",
    "max_score = np.where(ScoreAll==np.max(ScoreAll[:,1]))[0][0] \n",
    "print(\"Optimized parameters and respective score:\",ScoreAll[max_score])  \n",
    "plt.figure(figsize=[8,5])\n",
    "plt.plot(ScoreAll[:,0],ScoreAll[:,1])\n",
    "plt.title('OOB_Score VS Max_Features')\n",
    "plt.xlabel('Max_Features')\n",
    "plt.ylabel('OOB_Score')\n",
    "plt.show()\n",
    "\n",
    "stop = time()\n",
    "total_time= int((stop-start)/60)\n",
    "print(f'Running time: {total_time} min')"
   ]
  },
  {
   "cell_type": "markdown",
   "metadata": {},
   "source": [
    "<a id='neural'></a>\n",
    "### Neural Network Regression Model"
   ]
  },
  {
   "cell_type": "code",
   "execution_count": 105,
   "metadata": {},
   "outputs": [
    {
     "name": "stdout",
     "output_type": "stream",
     "text": [
      "MLP R2 Score:  0.86804\n"
     ]
    },
    {
     "name": "stderr",
     "output_type": "stream",
     "text": [
      "C:\\Users\\Chao\\anaconda3\\lib\\site-packages\\sklearn\\neural_network\\_multilayer_perceptron.py:582: ConvergenceWarning: Stochastic Optimizer: Maximum iterations (200) reached and the optimization hasn't converged yet.\n",
      "  warnings.warn(\n"
     ]
    },
    {
     "data": {
      "text/plain": [
       "[]"
      ]
     },
     "execution_count": 105,
     "metadata": {},
     "output_type": "execute_result"
    },
    {
     "data": {
      "image/png": "[encoded data removed]",
      "text/plain": [
       "<Figure size 432x288 with 1 Axes>"
      ]
     },
     "metadata": {
      "needs_background": "light"
     },
     "output_type": "display_data"
    }
   ],
   "source": [
    "#clf = MLPRegressor(solver='sgd', alpha=1e-5, hidden_layer_sizes=(2, 1), random_state=5022)\n",
    "#clf = MLPRegressor(hidden_layer_sizes=(200, 200), tol=1e-2, max_iter=1000, learning_rate_init=0.001,random_state=5022)\n",
    "\n",
    "clf = MLPRegressor(\n",
    "    hidden_layer_sizes=(20,20,20),  max_iter=200, activation='relu', solver='adam', alpha=0.0001, batch_size='auto',\n",
    "    learning_rate='constant', learning_rate_init=0.001, power_t=0.5,  shuffle=True,\n",
    "    random_state=5022, tol=0.0001, verbose=False, warm_start=False, momentum=0.9, nesterovs_momentum=True,\n",
    "    early_stopping=False,beta_1=0.9, beta_2=0.999, epsilon=1e-08)\n",
    "\n",
    "# Data Training\n",
    "clf.fit(x_ttrain,y_train.ravel())\n",
    "y_pre_clf = clf.predict(x_ttest)\n",
    "\n",
    "clf_score1 = r2_score(y_test, y_pre_clf).round(5)\n",
    "print('MLP R2 Score: ',clf_score1)\n",
    "\n",
    "#plt.plot(y_test,label = 'true')\n",
    "#plt.plot(y_pre_clf,label ='Netural Network')\n",
    "#plt.legend()\n",
    "#plt.show()\n",
    "\n",
    "plt.scatter(y_test, y_pre_clf, c = 'red', marker = 'o', edgecolors = 'white')\n",
    "#sns.scatterplot(y_true, y_pre_linear)\n",
    "plt.plot([y_test.min(),y_test.max()], [y_test.min(),y_test.max()], 'k--')\n",
    "plt.title('Neural Network Regression Result')\n",
    "plt.xlabel('test data')\n",
    "plt.ylabel('predicted data')\n",
    "plt.plot()"
   ]
  },
  {
   "cell_type": "code",
   "execution_count": 106,
   "metadata": {
    "scrolled": false
   },
   "outputs": [
    {
     "name": "stdout",
     "output_type": "stream",
     "text": [
      "MLP R2 Score:  0.74056\n"
     ]
    },
    {
     "name": "stderr",
     "output_type": "stream",
     "text": [
      "C:\\Users\\Chao\\anaconda3\\lib\\site-packages\\sklearn\\neural_network\\_multilayer_perceptron.py:582: ConvergenceWarning: Stochastic Optimizer: Maximum iterations (200) reached and the optimization hasn't converged yet.\n",
      "  warnings.warn(\n"
     ]
    },
    {
     "data": {
      "text/plain": [
       "[]"
      ]
     },
     "execution_count": 106,
     "metadata": {},
     "output_type": "execute_result"
    },
    {
     "data": {
      "image/png": "[encoded data removed]",
      "text/plain": [
       "<Figure size 432x288 with 1 Axes>"
      ]
     },
     "metadata": {
      "needs_background": "light"
     },
     "output_type": "display_data"
    }
   ],
   "source": [
    "#clf = MLPRegressor(solver='sgd', alpha=1e-5, hidden_layer_sizes=(2, 1), random_state=5022)\n",
    "#clf = MLPRegressor(hidden_layer_sizes=(200, 200), tol=1e-2, max_iter=1000, learning_rate_init=0.001,random_state=5022)\n",
    "\n",
    "clf = MLPRegressor(\n",
    "    hidden_layer_sizes=(8,8,8),  max_iter=200, activation='relu', solver='adam', alpha=0.0001, batch_size='auto',\n",
    "    learning_rate='constant', learning_rate_init=0.001, power_t=0.5,  shuffle=True,\n",
    "    random_state=5022, tol=0.0001, verbose=False, warm_start=False, momentum=0.9, nesterovs_momentum=True,\n",
    "    early_stopping=False,beta_1=0.9, beta_2=0.999, epsilon=1e-08)\n",
    "\n",
    "# Data Training\n",
    "clf.fit(x_ttrain,y_train.ravel())\n",
    "y_pre_clf = clf.predict(x_ttest)\n",
    "\n",
    "clf_score1 = r2_score(y_test, y_pre_clf).round(5)\n",
    "print('MLP R2 Score: ',clf_score1)\n",
    "\n",
    "#plt.plot(y_test,label = 'true')\n",
    "#plt.plot(y_pre_clf,label ='Netural Network')\n",
    "#plt.legend()\n",
    "#plt.show()\n",
    "\n",
    "plt.scatter(y_test, y_pre_clf, c = 'red', marker = 'o', edgecolors = 'white')\n",
    "#sns.scatterplot(y_true, y_pre_linear)\n",
    "plt.plot([y_test.min(),y_test.max()], [y_test.min(),y_test.max()], 'k--')\n",
    "plt.title('Neural Network Regression Result')\n",
    "plt.xlabel('test data')\n",
    "plt.ylabel('predicted data')\n",
    "plt.plot()"
   ]
  },
  {
   "cell_type": "markdown",
   "metadata": {},
   "source": [
    "### parameters adjustment"
   ]
  },
  {
   "cell_type": "code",
   "execution_count": 128,
   "metadata": {},
   "outputs": [
    {
     "name": "stdout",
     "output_type": "stream",
     "text": [
      "MLP R2 Score:  0.05051\n"
     ]
    },
    {
     "name": "stderr",
     "output_type": "stream",
     "text": [
      "C:\\Users\\Chao\\anaconda3\\lib\\site-packages\\sklearn\\neural_network\\_multilayer_perceptron.py:582: ConvergenceWarning: Stochastic Optimizer: Maximum iterations (200) reached and the optimization hasn't converged yet.\n",
      "  warnings.warn(\n"
     ]
    }
   ],
   "source": [
    "clf = MLPRegressor(hidden_layer_sizes = (50,))\n",
    "\n",
    "# Data Training\n",
    "clf.fit(x_ttrain,y_train.ravel())\n",
    "y_pre_clf = clf.predict(x_ttest)\n",
    "\n",
    "clf_score1 = r2_score(y_test, y_pre_clf).round(5)\n",
    "print('MLP R2 Score: ',clf_score1)"
   ]
  },
  {
   "cell_type": "code",
   "execution_count": 127,
   "metadata": {},
   "outputs": [
    {
     "name": "stdout",
     "output_type": "stream",
     "text": [
      "MLP R2 Score:  0.51983\n"
     ]
    },
    {
     "name": "stderr",
     "output_type": "stream",
     "text": [
      "C:\\Users\\Chao\\anaconda3\\lib\\site-packages\\sklearn\\neural_network\\_multilayer_perceptron.py:582: ConvergenceWarning: Stochastic Optimizer: Maximum iterations (200) reached and the optimization hasn't converged yet.\n",
      "  warnings.warn(\n"
     ]
    }
   ],
   "source": [
    "clf = MLPRegressor(hidden_layer_sizes = (500,))\n",
    "\n",
    "# Data Training\n",
    "clf.fit(x_ttrain,y_train.ravel())\n",
    "y_pre_clf = clf.predict(x_ttest)\n",
    "\n",
    "clf_score1 = r2_score(y_test, y_pre_clf).round(5)\n",
    "print('MLP R2 Score: ',clf_score1)"
   ]
  },
  {
   "cell_type": "code",
   "execution_count": 124,
   "metadata": {},
   "outputs": [
    {
     "name": "stdout",
     "output_type": "stream",
     "text": [
      "MLP R2 Score:  0.77519\n"
     ]
    },
    {
     "name": "stderr",
     "output_type": "stream",
     "text": [
      "C:\\Users\\Chao\\anaconda3\\lib\\site-packages\\sklearn\\neural_network\\_multilayer_perceptron.py:582: ConvergenceWarning: Stochastic Optimizer: Maximum iterations (200) reached and the optimization hasn't converged yet.\n",
      "  warnings.warn(\n"
     ]
    }
   ],
   "source": [
    "clf = MLPRegressor(hidden_layer_sizes = (50,50))\n",
    "\n",
    "# Data Training\n",
    "clf.fit(x_ttrain,y_train.ravel())\n",
    "y_pre_clf = clf.predict(x_ttest)\n",
    "\n",
    "clf_score1 = r2_score(y_test, y_pre_clf).round(5)\n",
    "print('MLP R2 Score: ',clf_score1)"
   ]
  },
  {
   "cell_type": "code",
   "execution_count": 107,
   "metadata": {},
   "outputs": [
    {
     "name": "stdout",
     "output_type": "stream",
     "text": [
      "MLP R2 Score:  0.96496\n"
     ]
    },
    {
     "name": "stderr",
     "output_type": "stream",
     "text": [
      "C:\\Users\\Chao\\anaconda3\\lib\\site-packages\\sklearn\\neural_network\\_multilayer_perceptron.py:582: ConvergenceWarning: Stochastic Optimizer: Maximum iterations (200) reached and the optimization hasn't converged yet.\n",
      "  warnings.warn(\n"
     ]
    }
   ],
   "source": [
    "clf = MLPRegressor(hidden_layer_sizes = (500,500))\n",
    "\n",
    "# Data Training\n",
    "clf.fit(x_ttrain,y_train.ravel())\n",
    "y_pre_clf = clf.predict(x_ttest)\n",
    "\n",
    "clf_score1 = r2_score(y_test, y_pre_clf).round(5)\n",
    "print('MLP R2 Score: ',clf_score1)"
   ]
  },
  {
   "cell_type": "code",
   "execution_count": 129,
   "metadata": {},
   "outputs": [
    {
     "name": "stdout",
     "output_type": "stream",
     "text": [
      "MLP R2 Score:  0.96641\n"
     ]
    },
    {
     "name": "stderr",
     "output_type": "stream",
     "text": [
      "C:\\Users\\Chao\\anaconda3\\lib\\site-packages\\sklearn\\neural_network\\_multilayer_perceptron.py:582: ConvergenceWarning: Stochastic Optimizer: Maximum iterations (200) reached and the optimization hasn't converged yet.\n",
      "  warnings.warn(\n"
     ]
    }
   ],
   "source": [
    "clf = MLPRegressor(hidden_layer_sizes = (50,50,50))\n",
    "\n",
    "# Data Training\n",
    "clf.fit(x_ttrain,y_train.ravel())\n",
    "y_pre_clf = clf.predict(x_ttest)\n",
    "\n",
    "clf_score1 = r2_score(y_test, y_pre_clf).round(5)\n",
    "print('MLP R2 Score: ',clf_score1)"
   ]
  },
  {
   "cell_type": "code",
   "execution_count": 131,
   "metadata": {},
   "outputs": [
    {
     "name": "stdout",
     "output_type": "stream",
     "text": [
      "MLP R2 Score:  0.97025\n"
     ]
    }
   ],
   "source": [
    "clf = MLPRegressor(hidden_layer_sizes = (50,50,50,50))\n",
    "\n",
    "# Data Training\n",
    "clf.fit(x_ttrain,y_train.ravel())\n",
    "y_pre_clf = clf.predict(x_ttest)\n",
    "\n",
    "clf_score1 = r2_score(y_test, y_pre_clf).round(5)\n",
    "print('MLP R2 Score: ',clf_score1)"
   ]
  },
  {
   "cell_type": "code",
   "execution_count": 132,
   "metadata": {},
   "outputs": [
    {
     "name": "stdout",
     "output_type": "stream",
     "text": [
      "MLP R2 Score:  0.96941\n"
     ]
    }
   ],
   "source": [
    "clf = MLPRegressor(hidden_layer_sizes = (50,50,50,50,50))\n",
    "\n",
    "# Data Training\n",
    "clf.fit(x_ttrain,y_train.ravel())\n",
    "y_pre_clf = clf.predict(x_ttest)\n",
    "\n",
    "clf_score1 = r2_score(y_test, y_pre_clf).round(5)\n",
    "print('MLP R2 Score: ',clf_score1)"
   ]
  },
  {
   "cell_type": "code",
   "execution_count": 134,
   "metadata": {},
   "outputs": [
    {
     "name": "stdout",
     "output_type": "stream",
     "text": [
      "MLP R2 Score:  0.96794\n"
     ]
    }
   ],
   "source": [
    "clf = MLPRegressor(hidden_layer_sizes = (100,100,100,100))\n",
    "\n",
    "# Data Training\n",
    "clf.fit(x_ttrain,y_train.ravel())\n",
    "y_pre_clf = clf.predict(x_ttest)\n",
    "\n",
    "clf_score1 = r2_score(y_test, y_pre_clf).round(5)\n",
    "print('MLP R2 Score: ',clf_score1)"
   ]
  },
  {
   "cell_type": "code",
   "execution_count": 139,
   "metadata": {},
   "outputs": [
    {
     "name": "stdout",
     "output_type": "stream",
     "text": [
      "MLP R2 Score:  0.97025\n"
     ]
    }
   ],
   "source": [
    "clf = MLPRegressor(hidden_layer_sizes = (60,60,60,60))\n",
    "\n",
    "# Data Training\n",
    "clf.fit(x_ttrain,y_train.ravel())\n",
    "y_pre_clf = clf.predict(x_ttest)\n",
    "\n",
    "clf_score1 = r2_score(y_test, y_pre_clf).round(5)\n",
    "print('MLP R2 Score: ',clf_score1)"
   ]
  },
  {
   "cell_type": "code",
   "execution_count": 140,
   "metadata": {},
   "outputs": [
    {
     "name": "stdout",
     "output_type": "stream",
     "text": [
      "MLP R2 Score:  0.96845\n"
     ]
    }
   ],
   "source": [
    "clf = MLPRegressor(hidden_layer_sizes = (40,40,40,40))\n",
    "\n",
    "# Data Training\n",
    "clf.fit(x_ttrain,y_train.ravel())\n",
    "y_pre_clf = clf.predict(x_ttest)\n",
    "\n",
    "clf_score1 = r2_score(y_test, y_pre_clf).round(5)\n",
    "print('MLP R2 Score: ',clf_score1)"
   ]
  },
  {
   "cell_type": "code",
   "execution_count": 141,
   "metadata": {
    "scrolled": true
   },
   "outputs": [
    {
     "name": "stdout",
     "output_type": "stream",
     "text": [
      "Fitting 3 folds for each of 7 candidates, totalling 21 fits\n"
     ]
    },
    {
     "name": "stderr",
     "output_type": "stream",
     "text": [
      "[Parallel(n_jobs=1)]: Using backend SequentialBackend with 1 concurrent workers.\n",
      "[Parallel(n_jobs=1)]: Done  21 out of  21 | elapsed: 14.7min finished\n"
     ]
    }
   ],
   "source": [
    "import warnings\n",
    "warnings.filterwarnings(\"ignore\")\n",
    "\n",
    "hidden_layer_sizes = [(i,i,i,i) for i in np.arange(40,101,10)]\n",
    "\n",
    "clf = MLPRegressor()\n",
    "\n",
    "grid = GridSearchCV(clf, {'hidden_layer_sizes':hidden_layer_sizes}, cv = 3, verbose = 1)\n",
    "grid_result = grid.fit(x_ttrain, y_train)"
   ]
  },
  {
   "cell_type": "code",
   "execution_count": 142,
   "metadata": {},
   "outputs": [
    {
     "data": {
      "text/plain": [
       "MLPRegressor(hidden_layer_sizes=(90, 90, 90, 90))"
      ]
     },
     "execution_count": 142,
     "metadata": {},
     "output_type": "execute_result"
    }
   ],
   "source": [
    "grid.best_estimator_"
   ]
  },
  {
   "cell_type": "code",
   "execution_count": 143,
   "metadata": {},
   "outputs": [
    {
     "data": {
      "text/plain": [
       "0.8593831565797196"
      ]
     },
     "execution_count": 143,
     "metadata": {},
     "output_type": "execute_result"
    }
   ],
   "source": [
    "grid.best_score_"
   ]
  },
  {
   "cell_type": "code",
   "execution_count": 145,
   "metadata": {
    "scrolled": true
   },
   "outputs": [
    {
     "name": "stdout",
     "output_type": "stream",
     "text": [
      "Fitting 3 folds for each of 11 candidates, totalling 33 fits\n"
     ]
    },
    {
     "name": "stderr",
     "output_type": "stream",
     "text": [
      "[Parallel(n_jobs=1)]: Using backend SequentialBackend with 1 concurrent workers.\n",
      "[Parallel(n_jobs=1)]: Done  33 out of  33 | elapsed: 43.6min finished\n"
     ]
    }
   ],
   "source": [
    "import warnings\n",
    "warnings.filterwarnings(\"ignore\")\n",
    "\n",
    "hidden_layer_sizes = [(i,i,i,i) for i in np.arange(90,101)]\n",
    "\n",
    "clf = MLPRegressor()\n",
    "\n",
    "grid = GridSearchCV(clf, {'hidden_layer_sizes':hidden_layer_sizes}, cv = 3, verbose = 1)\n",
    "grid_result = grid.fit(x_ttrain, y_train)"
   ]
  },
  {
   "cell_type": "code",
   "execution_count": 148,
   "metadata": {},
   "outputs": [
    {
     "data": {
      "text/plain": [
       "MLPRegressor(hidden_layer_sizes=(96, 96, 96, 96))"
      ]
     },
     "execution_count": 148,
     "metadata": {},
     "output_type": "execute_result"
    }
   ],
   "source": [
    "grid.best_estimator_"
   ]
  },
  {
   "cell_type": "code",
   "execution_count": 149,
   "metadata": {},
   "outputs": [
    {
     "data": {
      "text/plain": [
       "0.8619913929158551"
      ]
     },
     "execution_count": 149,
     "metadata": {},
     "output_type": "execute_result"
    }
   ],
   "source": [
    "grid.best_score_"
   ]
  },
  {
   "cell_type": "code",
   "execution_count": 150,
   "metadata": {
    "scrolled": true
   },
   "outputs": [
    {
     "name": "stdout",
     "output_type": "stream",
     "text": [
      "Fitting 3 folds for each of 5 candidates, totalling 15 fits\n"
     ]
    },
    {
     "name": "stderr",
     "output_type": "stream",
     "text": [
      "[Parallel(n_jobs=1)]: Using backend SequentialBackend with 1 concurrent workers.\n",
      "[Parallel(n_jobs=1)]: Done  15 out of  15 | elapsed:  8.8min finished\n"
     ]
    }
   ],
   "source": [
    "import warnings\n",
    "warnings.filterwarnings(\"ignore\")\n",
    "\n",
    "learn_rate = [0.001,0.01, 0.1, 0.2, 0.4]  \n",
    "param_grid = dict(learning_rate_init=learn_rate) \n",
    "\n",
    "clf = MLPRegressor(hidden_layer_sizes = (96,96,96,96))\n",
    "\n",
    "grid = GridSearchCV(clf, {'learning_rate_init' : learn_rate}, cv = 3, verbose = 1)\n",
    "grid_result = grid.fit(x_ttrain, y_train)"
   ]
  },
  {
   "cell_type": "code",
   "execution_count": 153,
   "metadata": {
    "scrolled": true
   },
   "outputs": [
    {
     "data": {
      "text/plain": [
       "{'learning_rate_init': 0.001}"
      ]
     },
     "execution_count": 153,
     "metadata": {},
     "output_type": "execute_result"
    }
   ],
   "source": [
    "grid.best_params_"
   ]
  },
  {
   "cell_type": "code",
   "execution_count": 154,
   "metadata": {},
   "outputs": [
    {
     "data": {
      "text/plain": [
       "0.8581227588100968"
      ]
     },
     "execution_count": 154,
     "metadata": {},
     "output_type": "execute_result"
    }
   ],
   "source": [
    "grid.best_score_"
   ]
  },
  {
   "cell_type": "code",
   "execution_count": 155,
   "metadata": {
    "scrolled": true
   },
   "outputs": [
    {
     "name": "stdout",
     "output_type": "stream",
     "text": [
      "Fitting 3 folds for each of 4 candidates, totalling 12 fits\n"
     ]
    },
    {
     "name": "stderr",
     "output_type": "stream",
     "text": [
      "[Parallel(n_jobs=1)]: Using backend SequentialBackend with 1 concurrent workers.\n",
      "[Parallel(n_jobs=1)]: Done  12 out of  12 | elapsed: 17.6min finished\n"
     ]
    }
   ],
   "source": [
    "import warnings\n",
    "warnings.filterwarnings(\"ignore\")\n",
    "\n",
    "iterate = [500,1000,5000,10000]\n",
    "\n",
    "clf = MLPRegressor(hidden_layer_sizes = (96,96,96,96),learning_rate_init=0.001)\n",
    "\n",
    "grid = GridSearchCV(clf, {'max_iter' : iterate}, cv = 3, verbose = 1)\n",
    "grid_result = grid.fit(x_ttrain, y_train)"
   ]
  },
  {
   "cell_type": "code",
   "execution_count": 156,
   "metadata": {},
   "outputs": [
    {
     "data": {
      "text/plain": [
       "MLPRegressor(hidden_layer_sizes=(96, 96, 96, 96), max_iter=5000)"
      ]
     },
     "execution_count": 156,
     "metadata": {},
     "output_type": "execute_result"
    }
   ],
   "source": [
    "grid.best_estimator_"
   ]
  },
  {
   "cell_type": "code",
   "execution_count": 157,
   "metadata": {},
   "outputs": [
    {
     "data": {
      "text/plain": [
       "0.8588895600909859"
      ]
     },
     "execution_count": 157,
     "metadata": {},
     "output_type": "execute_result"
    }
   ],
   "source": [
    "grid.best_score_"
   ]
  },
  {
   "cell_type": "code",
   "execution_count": 158,
   "metadata": {
    "scrolled": true
   },
   "outputs": [
    {
     "name": "stdout",
     "output_type": "stream",
     "text": [
      "Fitting 3 folds for each of 8 candidates, totalling 24 fits\n"
     ]
    },
    {
     "name": "stderr",
     "output_type": "stream",
     "text": [
      "[Parallel(n_jobs=1)]: Using backend SequentialBackend with 1 concurrent workers.\n",
      "[Parallel(n_jobs=1)]: Done  24 out of  24 | elapsed: 31.9min finished\n"
     ]
    }
   ],
   "source": [
    "import warnings\n",
    "warnings.filterwarnings(\"ignore\")\n",
    "\n",
    "iterate = np.arange(2000,9001,1000)\n",
    "\n",
    "clf = MLPRegressor(hidden_layer_sizes = (96,96,96,96),learning_rate_init=0.001)\n",
    "\n",
    "grid = GridSearchCV(clf, {'max_iter' : iterate}, cv = 3, verbose = 1)\n",
    "grid_result = grid.fit(x_ttrain, y_train)"
   ]
  },
  {
   "cell_type": "code",
   "execution_count": 159,
   "metadata": {},
   "outputs": [
    {
     "data": {
      "text/plain": [
       "MLPRegressor(hidden_layer_sizes=(96, 96, 96, 96), max_iter=9000)"
      ]
     },
     "execution_count": 159,
     "metadata": {},
     "output_type": "execute_result"
    }
   ],
   "source": [
    "grid.best_estimator_"
   ]
  },
  {
   "cell_type": "code",
   "execution_count": 289,
   "metadata": {},
   "outputs": [
    {
     "data": {
      "text/plain": [
       "0.9378000277645145"
      ]
     },
     "execution_count": 289,
     "metadata": {},
     "output_type": "execute_result"
    }
   ],
   "source": [
    "grid.best_score_"
   ]
  },
  {
   "cell_type": "code",
   "execution_count": 207,
   "metadata": {
    "scrolled": true
   },
   "outputs": [
    {
     "name": "stdout",
     "output_type": "stream",
     "text": [
      "Fitting 3 folds for each of 4 candidates, totalling 12 fits\n"
     ]
    },
    {
     "name": "stderr",
     "output_type": "stream",
     "text": [
      "[Parallel(n_jobs=1)]: Using backend SequentialBackend with 1 concurrent workers.\n",
      "[Parallel(n_jobs=1)]: Done  12 out of  12 | elapsed: 28.4min finished\n"
     ]
    }
   ],
   "source": [
    "import warnings\n",
    "warnings.filterwarnings(\"ignore\")\n",
    "\n",
    "activation = ['identity', 'logistic', 'tanh', 'relu']\n",
    "param_grid = dict(activation=activation)\n",
    "\n",
    "clf = MLPRegressor(hidden_layer_sizes = (96,96,96,96),learning_rate_init=0.001,max_iter=9000)\n",
    "\n",
    "grid = GridSearchCV(clf, param_grid=param_grid, cv = 3, verbose = 1)\n",
    "grid_result = grid.fit(x_ttrain, y_train)"
   ]
  },
  {
   "cell_type": "code",
   "execution_count": 210,
   "metadata": {},
   "outputs": [
    {
     "data": {
      "text/plain": [
       "{'activation': 'relu'}"
      ]
     },
     "execution_count": 210,
     "metadata": {},
     "output_type": "execute_result"
    }
   ],
   "source": [
    "grid.best_params_"
   ]
  },
  {
   "cell_type": "code",
   "execution_count": 211,
   "metadata": {
    "scrolled": true
   },
   "outputs": [
    {
     "data": {
      "text/plain": [
       "0.936654128869371"
      ]
     },
     "execution_count": 211,
     "metadata": {},
     "output_type": "execute_result"
    }
   ],
   "source": [
    "grid.best_score_"
   ]
  },
  {
   "cell_type": "code",
   "execution_count": 160,
   "metadata": {},
   "outputs": [
    {
     "name": "stdout",
     "output_type": "stream",
     "text": [
      "MLP R2 Score:  0.97027\n"
     ]
    }
   ],
   "source": [
    "clf = MLPRegressor(hidden_layer_sizes = (90,90,90,90),learning_rate_init=0.001,max_iter=9000,activation= 'relu')\n",
    "\n",
    "# Data Training\n",
    "clf.fit(x_ttrain,y_train.ravel())\n",
    "y_pre_clf = clf.predict(x_ttest)\n",
    "\n",
    "clf_score1 = r2_score(y_test, y_pre_clf).round(5)\n",
    "print('MLP R2 Score: ',clf_score1)"
   ]
  },
  {
   "cell_type": "markdown",
   "metadata": {},
   "source": [
    "<a id='predict'></a>\n",
    "## 4. Data Prediction Improvement\n",
    "<a href=#top>(back to top)</a>"
   ]
  },
  {
   "cell_type": "markdown",
   "metadata": {},
   "source": [
    "<a id='pre'></a>\n",
    "### Data Prediction with Random Forest Model"
   ]
  },
  {
   "cell_type": "markdown",
   "metadata": {},
   "source": [
    "#### Random Forest Regression\n",
    "\n",
    "Optimized configuration:\n",
    "\n",
    "n_estimators = 285\\\n",
    "max_depth = 45\\\n",
    "min_samples_leaf = 1\\\n",
    "min_samples_split = 2\\\n",
    "max_features = 610"
   ]
  },
  {
   "cell_type": "code",
   "execution_count": 175,
   "metadata": {},
   "outputs": [
    {
     "name": "stdout",
     "output_type": "stream",
     "text": [
      "The oob_score is: 0.903\n",
      "Running time: 1 min\n"
     ]
    }
   ],
   "source": [
    "start = time()\n",
    "rfr = RandomForestRegressor(random_state = 5022,\n",
    "                            n_estimators = 285,\n",
    "                            max_depth = 45,\n",
    "                            min_samples_leaf = 1,\n",
    "                            min_samples_split = 2,\n",
    "                            max_features = 610,\n",
    "                            oob_score = True ) # Random Forest Regression\n",
    "rfr.fit(x_ttrain,y_train)\n",
    "rfr_y_predict = rfr.predict(x_ttest)\n",
    "oob_score3 = rfr.oob_score_\n",
    "#score = r2_score(y_test,rfr_y_predict)\n",
    "\n",
    "print(f'The oob_score is: {oob_score3.round(3)}')\n",
    "#print(r2_score)\n",
    "\n",
    "stop = time()\n",
    "total_time= int((stop-start)/60)\n",
    "print(f'Running time: {total_time} min')"
   ]
  },
  {
   "cell_type": "code",
   "execution_count": 176,
   "metadata": {},
   "outputs": [
    {
     "name": "stdout",
     "output_type": "stream",
     "text": [
      "The R2 score is: 0.97229\n",
      "Running time: 0 min\n"
     ]
    },
    {
     "data": {
      "image/png": "[encoded data removed]",
      "text/plain": [
       "<Figure size 432x288 with 1 Axes>"
      ]
     },
     "metadata": {
      "needs_background": "light"
     },
     "output_type": "display_data"
    }
   ],
   "source": [
    "start = time()\n",
    "\n",
    "#rfr_score = rfr.oob_score_\n",
    "#cross_val_score_rfr = cross_val_score(rfr, x_train, y_train, cv=10 ,scoring = \"r2\").mean()\n",
    "#rfr_r2_score_train3 = cross_val_score(rfr,x_train,y_train,cv=10,scoring='r2').mean()\n",
    "#rfr_r2_score_test3 = rfr.score(x_test,y_test)\n",
    "\n",
    "rfr_r2_score3 = r2_score(y_test,rfr_y_predict)\n",
    "plt.scatter(y_test, rfr_y_predict, c = 'red', marker = 'o', edgecolors = 'white')\n",
    "#sns.scatterplot(y_true, y_pre_linear)\n",
    "\n",
    "plt.plot([y_test.min(),y_test.max()], [y_test.min(),y_test.max()], 'k--')\n",
    "plt.title('Random Forest Regression Result')\n",
    "plt.xlabel('test data')\n",
    "plt.ylabel('predicted data')\n",
    "plt.plot()\n",
    "\n",
    "#print(f'The obb score is: {rfr_score.round(3)}')\n",
    "#print(f'The cross validation R2 score is: {cross_val_score_rfr.round(5)}')\n",
    "#print(f'The train R2 score is: {rfr_r2_score_train3.round(5)}')\n",
    "#print(f'The test R2 score is: {rfr_r2_score_test3.round(5)}')\n",
    "print(f'The R2 score is: {rfr_r2_score3.round(5)}')\n",
    "\n",
    "stop = time()\n",
    "total_time= int((stop-start)/60)\n",
    "print(f'Running time: {total_time} min')"
   ]
  },
  {
   "cell_type": "code",
   "execution_count": 177,
   "metadata": {
    "scrolled": true
   },
   "outputs": [
    {
     "name": "stdout",
     "output_type": "stream",
     "text": [
      "RF Expained Value (EV)： 0.97232\n",
      "RF Mean Absolute Error (MAE)： 3686.3906\n",
      "RF Mean Squared Error (MSE)： 90842365.56337\n",
      "RF Rooted Mean Squared Error (RMSE)： 9531.12614\n"
     ]
    }
   ],
   "source": [
    "rfr_EV3 = explained_variance_score(y_test, rfr_y_predict)\n",
    "rfr_MAE3 = mean_absolute_error(y_test, rfr_y_predict)\n",
    "rfr_MSE3 = mean_squared_error(y_test, rfr_y_predict)\n",
    "rfr_RMSE3 = np.sqrt(rfr_MSE3)\n",
    "\n",
    "print('RF Expained Value (EV)：',rfr_EV3.round(5))\n",
    "print('RF Mean Absolute Error (MAE)：',rfr_MAE3.round(5))\n",
    "print('RF Mean Squared Error (MSE)：',rfr_MSE3.round(5))\n",
    "print('RF Rooted Mean Squared Error (RMSE)：',rfr_RMSE3.round(5))"
   ]
  },
  {
   "cell_type": "markdown",
   "metadata": {},
   "source": [
    "<a id='pre1'></a>\n",
    "### Data Prediction with Neural Network Model"
   ]
  },
  {
   "cell_type": "markdown",
   "metadata": {},
   "source": [
    "#### Neural Network Regression\n",
    "\n",
    "Optimized configuration:\n",
    "\n",
    "hidden layer size = 90x90x90x90\\\n",
    "learning rate init = 0.001\\\n",
    "max iteration = 9000\\\n",
    "activiation = 'relu'"
   ]
  },
  {
   "cell_type": "code",
   "execution_count": 178,
   "metadata": {},
   "outputs": [
    {
     "name": "stdout",
     "output_type": "stream",
     "text": [
      "MLP R2 Score:  0.97072\n"
     ]
    },
    {
     "data": {
      "text/plain": [
       "[]"
      ]
     },
     "execution_count": 178,
     "metadata": {},
     "output_type": "execute_result"
    },
    {
     "data": {
      "image/png": "[encoded data removed]",
      "text/plain": [
       "<Figure size 432x288 with 1 Axes>"
      ]
     },
     "metadata": {
      "needs_background": "light"
     },
     "output_type": "display_data"
    }
   ],
   "source": [
    "clf = MLPRegressor(hidden_layer_sizes = (90,90,90,90),learning_rate_init=0.001,max_iter=9000,activation= 'relu')\n",
    "\n",
    "# Data Training\n",
    "clf.fit(x_ttrain,y_train.ravel())\n",
    "y_pre_clf2 = clf.predict(x_ttest)\n",
    "\n",
    "clf_score2 = r2_score(y_test, y_pre_clf2).round(5)\n",
    "print('MLP R2 Score: ',clf_score2)\n",
    "\n",
    "plt.scatter(y_test, y_pre_clf2, c = 'red', marker = 'o', edgecolors = 'white')\n",
    "\n",
    "plt.plot([y_test.min(),y_test.max()], [y_test.min(),y_test.max()], 'k--')\n",
    "plt.title('Neural Network Regression Result')\n",
    "plt.xlabel('test data')\n",
    "plt.ylabel('predicted data')\n",
    "plt.plot()"
   ]
  },
  {
   "cell_type": "code",
   "execution_count": 179,
   "metadata": {
    "scrolled": true
   },
   "outputs": [
    {
     "name": "stdout",
     "output_type": "stream",
     "text": [
      "MLP Expained Value (EV)： 0.97027\n",
      "MLP Mean Absolute Error (MAE)： 3352.64568\n",
      "MLP Mean Squared Error (MSE)： 97463842.15105\n",
      "MLP Rooted Mean Squared Error (RMSE)： 9872.37774\n"
     ]
    }
   ],
   "source": [
    "clf_EV3 = explained_variance_score(y_test,y_pre_clf)\n",
    "clf_MAE3 = mean_absolute_error(y_test,y_pre_clf)\n",
    "clf_MSE3 = mean_squared_error(y_test,y_pre_clf)\n",
    "clf_RMSE3 = np.sqrt(clf_MSE3)\n",
    "\n",
    "\n",
    "print('MLP Expained Value (EV)：',clf_EV3.round(5))\n",
    "print('MLP Mean Absolute Error (MAE)：',clf_MAE3.round(5))\n",
    "print('MLP Mean Squared Error (MSE)：',clf_MSE3.round(5))\n",
    "print('MLP Rooted Mean Squared Error (RMSE)：',clf_RMSE3.round(5))"
   ]
  },
  {
   "cell_type": "markdown",
   "metadata": {},
   "source": [
    "<a id='con'></a>\n",
    "## 5. Conclusion\n",
    "<a href=#top>(back to top)</a>"
   ]
  },
  {
   "cell_type": "markdown",
   "metadata": {},
   "source": [
    "### Evaluation of Different Regression Models"
   ]
  },
  {
   "cell_type": "code",
   "execution_count": 180,
   "metadata": {},
   "outputs": [],
   "source": [
    "model_eva = pd.DataFrame({'Value':['R2', 'EV', 'MAE', 'MSE', 'RMSE'],\n",
    "                         'Linear Regression':[linear_score,linear_EV,linear_MAE,linear_MSE,linear_RMSE],\n",
    "                          'Ridge Regression':[ridge_score,ridge_EV,ridge_MAE,ridge_MSE,ridge_RMSE],\n",
    "                          'KNN Regression':[knn_score1,knn_EV,knn_MAE,knn_MSE,knn_RMSE],\n",
    "                          'Decision Tree Regression':[DT_score,DT_EV,DT_MAE,DT_MSE,DT_RMSE],\n",
    "                          'Random Forest Regression':[rfr_r2_score3,rfr_EV3,rfr_MAE3,rfr_MSE3,rfr_RMSE3],\n",
    "                          'Neural Network Regression':[clf_score2,clf_EV3,clf_MAE3,clf_MSE3,clf_RMSE3],\n",
    "                          })\n",
    "model_eva.set_index(['Value'], inplace = True)"
   ]
  },
  {
   "cell_type": "code",
   "execution_count": 181,
   "metadata": {},
   "outputs": [],
   "source": [
    "model_eva = pd.DataFrame(model_eva.values.T, index=model_eva.columns, columns=model_eva.index)"
   ]
  },
  {
   "cell_type": "code",
   "execution_count": 182,
   "metadata": {
    "scrolled": false
   },
   "outputs": [
    {
     "data": {
      "text/html": [
       "<div>\n",
       "<style scoped>\n",
       "    .dataframe tbody tr th:only-of-type {\n",
       "        vertical-align: middle;\n",
       "    }\n",
       "\n",
       "    .dataframe tbody tr th {\n",
       "        vertical-align: top;\n",
       "    }\n",
       "\n",
       "    .dataframe thead th {\n",
       "        text-align: right;\n",
       "    }\n",
       "</style>\n",
       "<table border=\"1\" class=\"dataframe\">\n",
       "  <thead>\n",
       "    <tr style=\"text-align: right;\">\n",
       "      <th>Value</th>\n",
       "      <th>R2</th>\n",
       "      <th>EV</th>\n",
       "      <th>MAE</th>\n",
       "      <th>MSE</th>\n",
       "      <th>RMSE</th>\n",
       "    </tr>\n",
       "  </thead>\n",
       "  <tbody>\n",
       "    <tr>\n",
       "      <th>Linear Regression</th>\n",
       "      <td>0.979</td>\n",
       "      <td>0.979</td>\n",
       "      <td>3055.787</td>\n",
       "      <td>6.773168e+07</td>\n",
       "      <td>8229.926</td>\n",
       "    </tr>\n",
       "    <tr>\n",
       "      <th>Ridge Regression</th>\n",
       "      <td>0.966</td>\n",
       "      <td>0.966</td>\n",
       "      <td>4654.395</td>\n",
       "      <td>1.109133e+08</td>\n",
       "      <td>10531.538</td>\n",
       "    </tr>\n",
       "    <tr>\n",
       "      <th>KNN Regression</th>\n",
       "      <td>0.877</td>\n",
       "      <td>0.877</td>\n",
       "      <td>4659.654</td>\n",
       "      <td>4.034824e+08</td>\n",
       "      <td>20086.871</td>\n",
       "    </tr>\n",
       "    <tr>\n",
       "      <th>Decision Tree Regression</th>\n",
       "      <td>0.958</td>\n",
       "      <td>0.958</td>\n",
       "      <td>3876.136</td>\n",
       "      <td>1.367825e+08</td>\n",
       "      <td>11695.405</td>\n",
       "    </tr>\n",
       "    <tr>\n",
       "      <th>Random Forest Regression</th>\n",
       "      <td>0.972</td>\n",
       "      <td>0.972</td>\n",
       "      <td>3686.391</td>\n",
       "      <td>9.084237e+07</td>\n",
       "      <td>9531.126</td>\n",
       "    </tr>\n",
       "    <tr>\n",
       "      <th>Neural Network Regression</th>\n",
       "      <td>0.971</td>\n",
       "      <td>0.970</td>\n",
       "      <td>3352.646</td>\n",
       "      <td>9.746384e+07</td>\n",
       "      <td>9872.378</td>\n",
       "    </tr>\n",
       "  </tbody>\n",
       "</table>\n",
       "</div>"
      ],
      "text/plain": [
       "Value                         R2     EV       MAE           MSE       RMSE\n",
       "Linear Regression          0.979  0.979  3055.787  6.773168e+07   8229.926\n",
       "Ridge Regression           0.966  0.966  4654.395  1.109133e+08  10531.538\n",
       "KNN Regression             0.877  0.877  4659.654  4.034824e+08  20086.871\n",
       "Decision Tree Regression   0.958  0.958  3876.136  1.367825e+08  11695.405\n",
       "Random Forest Regression   0.972  0.972  3686.391  9.084237e+07   9531.126\n",
       "Neural Network Regression  0.971  0.970  3352.646  9.746384e+07   9872.378"
      ]
     },
     "execution_count": 182,
     "metadata": {},
     "output_type": "execute_result"
    }
   ],
   "source": [
    "model_eva.round(3)"
   ]
  }
 ],
 "metadata": {
  "kernelspec": {
   "display_name": "Python 3",
   "language": "python",
   "name": "python3"
  },
  "language_info": {
   "codemirror_mode": {
    "name": "ipython",
    "version": 3
   },
   "file_extension": ".py",
   "mimetype": "text/x-python",
   "name": "python",
   "nbconvert_exporter": "python",
   "pygments_lexer": "ipython3",
   "version": "3.8.3"
  }
 },
 "nbformat": 4,
 "nbformat_minor": 4
}
